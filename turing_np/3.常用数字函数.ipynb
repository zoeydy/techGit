{
 "cells": [
  {
   "cell_type": "markdown",
   "id": "6b36edc4",
   "metadata": {},
   "source": [
    "# "
   ]
  },
  {
   "cell_type": "code",
   "execution_count": 3,
   "id": "2e18347d",
   "metadata": {},
   "outputs": [],
   "source": [
    "import numpy as np"
   ]
  },
  {
   "cell_type": "markdown",
   "id": "ce488de8",
   "metadata": {},
   "source": [
    "# Arithmetic operations"
   ]
  },
  {
   "cell_type": "code",
   "execution_count": 14,
   "id": "3e6716bf",
   "metadata": {},
   "outputs": [
    {
     "name": "stdout",
     "output_type": "stream",
     "text": [
      "[[1 2]\n",
      " [3 4]]\n",
      "[[5 6]\n",
      " [7 8]]\n",
      "[[ 6  8]\n",
      " [10 12]]\n",
      "[[ 6  8]\n",
      " [10 12]]\n",
      "[[-4 -4]\n",
      " [-4 -4]]\n",
      "[[-4 -4]\n",
      " [-4 -4]]\n",
      "[[ 5 12]\n",
      " [21 32]]\n",
      "[[ 5 12]\n",
      " [21 32]]\n",
      "[[0.2        0.33333333]\n",
      " [0.42857143 0.5       ]]\n",
      "[[0.2        0.33333333]\n",
      " [0.42857143 0.5       ]]\n",
      "[[0 0]\n",
      " [0 0]]\n",
      "[[0 0]\n",
      " [0 0]]\n",
      "[[1 2]\n",
      " [3 4]]\n",
      "[[1 2]\n",
      " [3 4]]\n",
      "[[    1    64]\n",
      " [ 2187 65536]]\n",
      "[[    1    64]\n",
      " [ 2187 65536]]\n"
     ]
    }
   ],
   "source": [
    "mat1 = np.arange(1,5).reshape(2,2)\n",
    "mat2 = np.arange(5,9).reshape(2,2)\n",
    "\n",
    "print(mat1)\n",
    "print(mat2)\n",
    "\n",
    "print(mat1 + mat2)\n",
    "print(np.add(mat1, mat2))\n",
    "\n",
    "print(mat1 - mat2)\n",
    "print(np.subtract(mat1, mat2))\n",
    "\n",
    "print(mat1 * mat2)\n",
    "print(np.multiply(mat1, mat2))\n",
    "\n",
    "print(mat1 / mat2)\n",
    "print(np.divide(mat1, mat2))\n",
    "\n",
    "print(mat1 // mat2)\n",
    "print(np.floor_divide(mat1, mat2))\n",
    "\n",
    "print(mat1 % mat2)\n",
    "print(np.mod(mat1, mat2))\n",
    "\n",
    "print(mat1 ** mat2)\n",
    "print(np.power(mat1, mat2))"
   ]
  },
  {
   "cell_type": "markdown",
   "id": "6869e25f",
   "metadata": {},
   "source": [
    "# Mathematical and statistical functions"
   ]
  },
  {
   "cell_type": "code",
   "execution_count": 5,
   "id": "36eb749e",
   "metadata": {},
   "outputs": [
    {
     "name": "stdout",
     "output_type": "stream",
     "text": [
      "[[-35.3  -9.7 -21.2  31.4 -37.7]\n",
      " [  2.8 -16.   -1.3  42.4  44. ]]\n",
      "[[-1. -1. -1.  1. -1.]\n",
      " [ 1. -1. -1.  1.  1.]]\n",
      "(array([0, 0, 0, 0, 0, 1, 1, 1, 1, 1]), array([0, 1, 2, 3, 4, 0, 1, 2, 3, 4]))\n",
      "[[-35.  -9. -21.  32. -37.]\n",
      " [  3. -16.  -1.  43.  44.]]\n",
      "[-35.3 -45.  -66.2 -34.8 -72.5 -69.7 -85.7 -87.  -44.6  -0.6]\n",
      "[[ 25.6 -11.5  52.6 -69.1]\n",
      " [-18.8  14.7  43.7   1.6]] \n",
      "\n",
      "\n",
      "[[1.24609e+03 9.40900e+01 4.49440e+02 9.85960e+02 1.42129e+03]\n",
      " [7.84000e+00 2.56000e+02 1.69000e+00 1.79776e+03 1.93600e+03]]\n",
      "[[       nan        nan        nan 5.60357029        nan]\n",
      " [1.67332005        nan        nan 6.51152824 6.63324958]]\n",
      "[[ True  True  True False  True]\n",
      " [False  True  True False False]] \n",
      "\n",
      "\n",
      "[[ 6.76117835e-01  2.71760626e-01 -7.11161223e-01 -1.59258626e-02\n",
      "  -8.88156806e-04]\n",
      " [ 3.34988150e-01  2.87903317e-01 -9.63558185e-01 -9.99933866e-01\n",
      "   1.77019251e-02]]\n",
      "[[-37.7 -35.3 -21.2  -9.7  31.4]\n",
      " [-16.   -1.3   2.8  42.4  44. ]]\n"
     ]
    },
    {
     "name": "stderr",
     "output_type": "stream",
     "text": [
      "/var/folders/_d/ygp6b6291jq_99s9fqh98qv40000gn/T/ipykernel_48114/268745472.py:10: RuntimeWarning: invalid value encountered in sqrt\n",
      "  print(np.sqrt(rand_matrix))\n",
      "/var/folders/_d/ygp6b6291jq_99s9fqh98qv40000gn/T/ipykernel_48114/268745472.py:11: RuntimeWarning: invalid value encountered in sqrt\n",
      "  print(f'{np.isnan(np.sqrt(rand_matrix))} \\n\\n')\n"
     ]
    }
   ],
   "source": [
    "rand_matrix = (np.random.randint(10,1000,size=(2,5))-500) / 10.0\n",
    "print(rand_matrix)\n",
    "print(np.sign(rand_matrix))\n",
    "print(np.nonzero(rand_matrix))\n",
    "print(np.ceil(rand_matrix)) # 拿到大于元素的最小整数\n",
    "print(np.cumsum(rand_matrix)) # 计算累计和\n",
    "print(f'{np.diff(rand_matrix)} \\n\\n') # 计算相邻两数差\n",
    "\n",
    "print(np.square(rand_matrix))\n",
    "print(np.sqrt(rand_matrix))\n",
    "print(f'{np.isnan(np.sqrt(rand_matrix))} \\n\\n')\n",
    "\n",
    "print(np.sin(rand_matrix))\n",
    "print(np.sort(rand_matrix))"
   ]
  },
  {
   "cell_type": "code",
   "execution_count": 33,
   "id": "17816f0f",
   "metadata": {},
   "outputs": [
    {
     "name": "stdout",
     "output_type": "stream",
     "text": [
      "[[1 2]\n",
      " [3 4]] \n",
      "\n",
      "2.5\n",
      "2.5\n",
      "2.5 \n",
      "\n",
      "4\n",
      "3\n",
      "1\n",
      "0 \n",
      "\n",
      "10\n",
      "[4 6]\n",
      "[3 7] \n",
      "\n",
      "[[1 2]\n",
      " [3 4]] \n",
      "\n"
     ]
    }
   ],
   "source": [
    "# 常用统计函数\n",
    "print(mat1, '\\n')\n",
    "\n",
    "print(mat1.mean())\n",
    "print(np.mean(mat1))\n",
    "print(np.median(mat1),'\\n')\n",
    "\n",
    "print(np.max(mat1))\n",
    "print(np.argmax(mat1))\n",
    "print(np.min(mat1))\n",
    "print(np.argmin(mat1),'\\n')\n",
    "\n",
    "print(np.sum(mat1))\n",
    "print(np.sum(mat1, axis=0)) # 按列求和\n",
    "print(np.sum(mat1, axis=1),'\\n') # 按行求和\n",
    "\n",
    "print(np.abs(mat1),'\\n')\n"
   ]
  },
  {
   "cell_type": "markdown",
   "id": "3f7def2c",
   "metadata": {},
   "source": [
    "# Linear Algebra"
   ]
  },
  {
   "cell_type": "markdown",
   "id": "601d432c",
   "metadata": {},
   "source": [
    "转置"
   ]
  },
  {
   "cell_type": "code",
   "execution_count": 35,
   "id": "95beafcf",
   "metadata": {},
   "outputs": [
    {
     "name": "stdout",
     "output_type": "stream",
     "text": [
      "[0 1 2]\n",
      "[0 1 2]\n",
      "[[0 1 2]]\n",
      "[[0]\n",
      " [1]\n",
      " [2]]\n"
     ]
    }
   ],
   "source": [
    "mat = np.arange(3)\n",
    "print(mat)\n",
    "print(mat.T )\n",
    "mat = mat.reshape(1,3)\n",
    "print(mat)\n",
    "print(mat.T )"
   ]
  },
  {
   "cell_type": "code",
   "execution_count": 43,
   "id": "01b2fda6",
   "metadata": {},
   "outputs": [
    {
     "name": "stdout",
     "output_type": "stream",
     "text": [
      "[[1 2]\n",
      " [3 4]]\n",
      "[[5 6]\n",
      " [7 8]]\n",
      "[[ 5 12]\n",
      " [21 32]]\n"
     ]
    }
   ],
   "source": [
    "print(mat1)\n",
    "print(mat2)\n",
    "print(mat1*mat2)"
   ]
  },
  {
   "cell_type": "markdown",
   "id": "9776516f",
   "metadata": {},
   "source": [
    "点乘"
   ]
  },
  {
   "cell_type": "code",
   "execution_count": 39,
   "id": "d8fc1c16",
   "metadata": {},
   "outputs": [
    {
     "name": "stdout",
     "output_type": "stream",
     "text": [
      "[[19 22]\n",
      " [43 50]]\n"
     ]
    }
   ],
   "source": [
    "print(mat1.dot(mat2))"
   ]
  },
  {
   "cell_type": "markdown",
   "id": "f136c7e8",
   "metadata": {},
   "source": [
    "行列式："
   ]
  },
  {
   "cell_type": "code",
   "execution_count": 40,
   "id": "11b24b42",
   "metadata": {},
   "outputs": [
    {
     "name": "stdout",
     "output_type": "stream",
     "text": [
      "-2.0000000000000004\n"
     ]
    }
   ],
   "source": [
    "print(np.linalg.det(mat1))"
   ]
  },
  {
   "cell_type": "markdown",
   "id": "61d14b22",
   "metadata": {},
   "source": [
    "逆矩阵"
   ]
  },
  {
   "cell_type": "code",
   "execution_count": 37,
   "id": "a4a8b324",
   "metadata": {},
   "outputs": [
    {
     "name": "stdout",
     "output_type": "stream",
     "text": [
      "[[-2.   1. ]\n",
      " [ 1.5 -0.5]]\n"
     ]
    }
   ],
   "source": [
    "try: \n",
    "    print(np.linalg.inv(mat1))\n",
    "except:\n",
    "    print('error')"
   ]
  },
  {
   "cell_type": "markdown",
   "id": "cc21efe6",
   "metadata": {},
   "source": [
    "特征值，特征向量"
   ]
  },
  {
   "cell_type": "code",
   "execution_count": 47,
   "id": "4d23a90e",
   "metadata": {},
   "outputs": [
    {
     "name": "stdout",
     "output_type": "stream",
     "text": [
      "[-0.37228132  5.37228132] \n",
      " [[-0.82456484 -0.41597356]\n",
      " [ 0.56576746 -0.90937671]]\n",
      "[[ 0.00000000e+00 -4.44089210e-16]\n",
      " [ 5.55111512e-17  0.00000000e+00]]\n"
     ]
    }
   ],
   "source": [
    "eigen_val, eigen_vec = np.linalg.eig(mat1)\n",
    "print(eigen_val, '\\n', eigen_vec)\n",
    "print(mat1.dot(eigen_vec) - eigen_val*eigen_vec)"
   ]
  },
  {
   "cell_type": "markdown",
   "id": "83839a39",
   "metadata": {},
   "source": [
    "解线性方程组"
   ]
  },
  {
   "cell_type": "code",
   "execution_count": 49,
   "id": "9bff426c",
   "metadata": {},
   "outputs": [
    {
     "name": "stdout",
     "output_type": "stream",
     "text": [
      "[-3.  2.]\n"
     ]
    },
    {
     "data": {
      "text/plain": [
       "(array([ 6., -9.]), array([ 6, -9]))"
      ]
     },
     "execution_count": 49,
     "metadata": {},
     "output_type": "execute_result"
    }
   ],
   "source": [
    "coeff = np.array([[2,6],[5,3]])\n",
    "depvar = np.array([6,-9])\n",
    "solution = np.linalg.solve(coeff, depvar)\n",
    "print(solution)\n",
    "coeff.dot(solution), depvar"
   ]
  },
  {
   "cell_type": "markdown",
   "id": "29611eb2",
   "metadata": {},
   "source": [
    "Exercise"
   ]
  },
  {
   "cell_type": "code",
   "execution_count": 50,
   "id": "1e6a3892",
   "metadata": {},
   "outputs": [],
   "source": [
    "matrix1 = np.arange(15).reshape(3, 5)\n",
    "matrix2 = np.arange(15).reshape(5, 3)"
   ]
  },
  {
   "cell_type": "code",
   "execution_count": 52,
   "id": "bd49dc82",
   "metadata": {},
   "outputs": [
    {
     "name": "stdout",
     "output_type": "stream",
     "text": [
      "[[ 90 100 110]\n",
      " [240 275 310]\n",
      " [390 450 510]]\n",
      "[[ 9.48683298 10.         10.48808848]\n",
      " [15.49193338 16.58312395 17.60681686]\n",
      " [19.74841766 21.21320344 22.58317958]]\n",
      "143.2015963354727\n",
      "[  9.48683298  19.48683298  29.97492146  45.46685485  62.0499788\n",
      "  79.65679566  99.40521332 120.61841675 143.20159634]\n"
     ]
    }
   ],
   "source": [
    "result = matrix1.dot(matrix2) # or np.dot(matrix1, matrix2)\n",
    "print(result)\n",
    "sqrt = np.sqrt(result)\n",
    "print(sqrt)\n",
    "totsum = np.sum(sqrt)\n",
    "print(totsum)\n",
    "stepsum = np.cumsum(sqrt)\n",
    "print(stepsum)"
   ]
  }
 ],
 "metadata": {
  "kernelspec": {
   "display_name": "Python 3.9.7",
   "language": "python",
   "name": "python397jvsc74a57bd038cca0c38332a56087b24af0bc80247f4fced29cb4f7f437d91dc159adec9c4e"
  },
  "language_info": {
   "codemirror_mode": {
    "name": "ipython",
    "version": 3
   },
   "file_extension": ".py",
   "mimetype": "text/x-python",
   "name": "python",
   "nbconvert_exporter": "python",
   "pygments_lexer": "ipython3",
   "version": "3.9.7"
  }
 },
 "nbformat": 4,
 "nbformat_minor": 5
}
