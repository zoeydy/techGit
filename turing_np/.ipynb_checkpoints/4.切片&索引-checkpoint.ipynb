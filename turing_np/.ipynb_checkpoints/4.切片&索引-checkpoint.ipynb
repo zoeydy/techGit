{
 "cells": [
  {
   "cell_type": "code",
   "execution_count": 1,
   "id": "86c3631d",
   "metadata": {},
   "outputs": [],
   "source": [
    "import numpy as np"
   ]
  },
  {
   "cell_type": "markdown",
   "id": "1bfcb687",
   "metadata": {},
   "source": [
    "# 一维数组索引"
   ]
  },
  {
   "cell_type": "code",
   "execution_count": 9,
   "id": "5c669c38",
   "metadata": {},
   "outputs": [
    {
     "name": "stdout",
     "output_type": "stream",
     "text": [
      "[0 1 2 3 4 5 6 7 8 9]\n",
      "[2 3 4 5]\n",
      "[0 1 2 3 4 5 6]\n",
      "[3 4 5 6 7 8 9]\n",
      "[0 1 2 3 4 5 6]\n",
      "[2 3 4 5 6] \n",
      "\n",
      "\n",
      "[9 8 7 6 5 4 3 2 1 0] \n",
      "\n",
      "\n",
      "[2 5 8]\n",
      "[9 7]\n",
      "[9 7 5]\n",
      "[9]\n",
      "[8 6]\n"
     ]
    }
   ],
   "source": [
    "npary = np.arange(10)\n",
    "\n",
    "print(npary)\n",
    "print(npary[2:6])\n",
    "print(npary[:7])\n",
    "print(npary[3:])\n",
    "print(npary[:-3])\n",
    "print(f'{npary[2:-3]} \\n\\n')\n",
    "\n",
    "print(f'{npary[::-1]} \\n\\n')\n",
    "\n",
    "print(npary[2:9:3])\n",
    "print(npary[-1:5:-2])\n",
    "print(npary[-1:3:-2])\n",
    "print(npary[-1:7:-2])\n",
    "print(npary[-2:4:-2])"
   ]
  },
  {
   "cell_type": "markdown",
   "id": "a7ea9825",
   "metadata": {},
   "source": [
    "# 二维矩阵索引"
   ]
  },
  {
   "cell_type": "code",
   "execution_count": 17,
   "id": "a219fe38",
   "metadata": {},
   "outputs": [
    {
     "name": "stdout",
     "output_type": "stream",
     "text": [
      "13\n",
      "[[ 0  1  2  3  4]\n",
      " [ 5  6  7  8  9]\n",
      " [10 11 12 23 14]\n",
      " [15 16 17 18 19]]\n",
      "[[ 7  8]\n",
      " [12 23]]\n",
      "[ 5 16 18]\n",
      "[[ 8  9]\n",
      " [18 19]]\n",
      "[[ 7  9]\n",
      " [12 14]]\n"
     ]
    }
   ],
   "source": [
    "matrix = np.arange(20).reshape(4,5)\n",
    "print(matrix[2,3])\n",
    "\n",
    "matrix[2,3] = 23\n",
    "print(matrix)\n",
    "\n",
    "print(matrix[1:3,2:4])\n",
    "\n",
    "print(matrix[[1,3,3],[0,1,3]]) # 3个点在2个dimention的index\n",
    "\n",
    "print(matrix[(1,3),3:])\n",
    "print(matrix[1:3,(2,4)])"
   ]
  },
  {
   "cell_type": "code",
   "execution_count": 31,
   "id": "0a5b243f",
   "metadata": {},
   "outputs": [
    {
     "name": "stdout",
     "output_type": "stream",
     "text": [
      "[[ 0  1  2  3  4]\n",
      " [ 5  6  7  8  9]\n",
      " [10 11 12 23 14]\n",
      " [15 16 17 18 19]]\n",
      "[ 0 11 17  8]\n",
      "[[10  1  2  3  4]\n",
      " [ 5  6  7 18  9]\n",
      " [10 21 12 23 14]\n",
      " [15 16 27 18 19]]\n"
     ]
    }
   ],
   "source": [
    "mat2 = np.copy(matrix)\n",
    "print(mat2)\n",
    "\n",
    "vector = [0,2,3,1]\n",
    "print(mat2[vector, np.arange(4)])\n",
    "mat2[vector, np.arange(4)] += 10\n",
    "print(mat2)"
   ]
  },
  {
   "cell_type": "markdown",
   "id": "c5e26e7d",
   "metadata": {},
   "source": [
    "# 多维数组索引 Ellipsis（）"
   ]
  },
  {
   "cell_type": "code",
   "execution_count": 18,
   "id": "b73b7b94",
   "metadata": {},
   "outputs": [
    {
     "name": "stdout",
     "output_type": "stream",
     "text": [
      "[[[ 0  1  2  3]\n",
      "  [ 4  5  6  7]\n",
      "  [ 8  9 10 11]\n",
      "  [12 13 14 15]\n",
      "  [16 17 18 19]]\n",
      "\n",
      " [[20 21 22 23]\n",
      "  [24 25 26 27]\n",
      "  [28 29 30 31]\n",
      "  [32 33 34 35]\n",
      "  [36 37 38 39]]\n",
      "\n",
      " [[40 41 42 43]\n",
      "  [44 45 46 47]\n",
      "  [48 49 50 51]\n",
      "  [52 53 54 55]\n",
      "  [56 57 58 59]]\n",
      "\n",
      " [[60 61 62 63]\n",
      "  [64 65 66 67]\n",
      "  [68 69 70 71]\n",
      "  [72 73 74 75]\n",
      "  [76 77 78 79]]]\n"
     ]
    }
   ],
   "source": [
    "mat3d = np.arange(80).reshape(4,5,4)\n",
    "print(mat3d)"
   ]
  },
  {
   "cell_type": "code",
   "execution_count": 21,
   "id": "582b5139",
   "metadata": {},
   "outputs": [
    {
     "name": "stdout",
     "output_type": "stream",
     "text": [
      "[[40 41 42 43]\n",
      " [44 45 46 47]\n",
      " [48 49 50 51]\n",
      " [52 53 54 55]\n",
      " [56 57 58 59]]\n",
      "[52 53 54 55]\n",
      "[52 53 54 55]\n",
      "55\n"
     ]
    }
   ],
   "source": [
    "print(mat3d[2,...])\n",
    "print(mat3d[2,3,...])\n",
    "print(mat3d[2,3,:])\n",
    "print(mat3d[2,3,3])"
   ]
  },
  {
   "cell_type": "markdown",
   "id": "7edce2f7",
   "metadata": {},
   "source": [
    "# 布尔索引(Boolean Indexing)"
   ]
  },
  {
   "cell_type": "code",
   "execution_count": 42,
   "id": "386c6964",
   "metadata": {},
   "outputs": [
    {
     "name": "stdout",
     "output_type": "stream",
     "text": [
      "[[1 2]\n",
      " [3 4]\n",
      " [5 6]]\n",
      "[[False False]\n",
      " [ True  True]\n",
      " [ True  True]]\n",
      "[3 4 5 6]\n",
      "[[ 0  1  2  3  4]\n",
      " [ 5  6  7  8  9]\n",
      " [10 11 12 13 14]]\n",
      "[ 4  5  6  7  8  9 10 11 12 13 14]\n",
      "[ 1  3  5  7  9 11 13]\n"
     ]
    }
   ],
   "source": [
    "mat_bul = np.arange(6).reshape(3,2)\n",
    "mat_bul += 1\n",
    "print(mat_bul)\n",
    "\n",
    "\n",
    "bul_indx = mat_bul > 2 \n",
    "print(bul_indx)\n",
    "print(mat_bul[bul_indx])\n",
    "\n",
    "mat = np.arange(15).reshape(3,5)\n",
    "print(mat)\n",
    "print(mat[mat>3])\n",
    "print(mat[mat%2 == 1])"
   ]
  },
  {
   "cell_type": "code",
   "execution_count": 56,
   "id": "ed69a7a1",
   "metadata": {},
   "outputs": [
    {
     "name": "stdout",
     "output_type": "stream",
     "text": [
      "[[ 0  1  2  3  4  5  6  7  8  9 10 11]\n",
      " [12 13 14 15 16 17 18 19 20 21 22 23]\n",
      " [24 25 26 27 28 29 30 31 32 33 34 35]]\n",
      "[[ 1  4  7 10]\n",
      " [25 28 31 34]]\n"
     ]
    }
   ],
   "source": [
    "rows = [True, False, True]\n",
    "cols = [False, True, False] * 4\n",
    "\n",
    "mat_ix = np.arange(36).reshape(3,12)\n",
    "\n",
    "print(mat_ix)\n",
    "print(mat_ix[np.ix_(rows, cols)])\n"
   ]
  },
  {
   "cell_type": "markdown",
   "id": "d73b35eb",
   "metadata": {},
   "source": [
    "# 迭代 iterating"
   ]
  },
  {
   "cell_type": "code",
   "execution_count": 61,
   "id": "7f21976f",
   "metadata": {},
   "outputs": [
    {
     "name": "stdout",
     "output_type": "stream",
     "text": [
      "[[ 0  1  2  3  4  5  6  7  8  9 10 11]\n",
      " [12 13 14 15 16 17 18 19 20 21 22 23]]\n",
      "[ 0  1  2  3  4  5  6  7  8  9 10 11]\n",
      "[12 13 14 15 16 17 18 19 20 21 22 23]\n",
      "[ 0 12]\n",
      "[ 1 13]\n",
      "[ 2 14]\n",
      "[ 3 15]\n",
      "[ 4 16]\n",
      "[ 5 17]\n",
      "[ 6 18]\n",
      "[ 7 19]\n",
      "[ 8 20]\n",
      "[ 9 21]\n",
      "[10 22]\n",
      "[11 23]\n",
      "[[ 0  1  2  3  4  5  6  7  8  9 10 11]\n",
      " [12 13 14 15 16 17 18 19 20 21 22 23]]\n"
     ]
    }
   ],
   "source": [
    "mat_iter = np.arange(24).reshape(2,12)\n",
    "print(mat_iter)\n",
    "\n",
    "for row in mat_iter:\n",
    "    print(row)\n",
    "\n",
    "for col in mat_iter.T:\n",
    "    print(col)\n",
    "    \n",
    "print(mat_iter)\n"
   ]
  },
  {
   "cell_type": "code",
   "execution_count": 68,
   "id": "c54e4320",
   "metadata": {},
   "outputs": [
    {
     "name": "stdout",
     "output_type": "stream",
     "text": [
      "[[[  0   1   2   3   4]\n",
      "  [  5   6   7   8   9]\n",
      "  [ 10  11  12  13  14]\n",
      "  [ 15  16  17  18  19]\n",
      "  [ 20  21  22  23  24]]\n",
      "\n",
      " [[ 25  26  27  28  29]\n",
      "  [ 30  31  32  33  34]\n",
      "  [ 35  36  37  38  39]\n",
      "  [ 40  41  42  43  44]\n",
      "  [ 45  46  47  48  49]]\n",
      "\n",
      " [[ 50  51  52  53  54]\n",
      "  [ 55  56  57  58  59]\n",
      "  [ 60  61  62  63  64]\n",
      "  [ 65  66  67  68  69]\n",
      "  [ 70  71  72  73  74]]\n",
      "\n",
      " [[ 75  76  77  78  79]\n",
      "  [ 80  81  82  83  84]\n",
      "  [ 85  86  87  88  89]\n",
      "  [ 90  91  92  93  94]\n",
      "  [ 95  96  97  98  99]]\n",
      "\n",
      " [[100 101 102 103 104]\n",
      "  [105 106 107 108 109]\n",
      "  [110 111 112 113 114]\n",
      "  [115 116 117 118 119]\n",
      "  [120 121 122 123 124]]]\n",
      "[[ 0  1  2  3  4]\n",
      " [ 5  6  7  8  9]\n",
      " [10 11 12 13 14]\n",
      " [15 16 17 18 19]\n",
      " [20 21 22 23 24]]\n",
      "[[25 26 27 28 29]\n",
      " [30 31 32 33 34]\n",
      " [35 36 37 38 39]\n",
      " [40 41 42 43 44]\n",
      " [45 46 47 48 49]]\n",
      "[[50 51 52 53 54]\n",
      " [55 56 57 58 59]\n",
      " [60 61 62 63 64]\n",
      " [65 66 67 68 69]\n",
      " [70 71 72 73 74]]\n",
      "[[75 76 77 78 79]\n",
      " [80 81 82 83 84]\n",
      " [85 86 87 88 89]\n",
      " [90 91 92 93 94]\n",
      " [95 96 97 98 99]]\n",
      "[[100 101 102 103 104]\n",
      " [105 106 107 108 109]\n",
      " [110 111 112 113 114]\n",
      " [115 116 117 118 119]\n",
      " [120 121 122 123 124]]\n",
      "[array([[55, 56, 57, 58, 59],\n",
      "       [60, 61, 62, 63, 64]])]\n",
      "[array([[50, 51, 52, 53, 54],\n",
      "       [55, 56, 57, 58, 59],\n",
      "       [60, 61, 62, 63, 64],\n",
      "       [65, 66, 67, 68, 69],\n",
      "       [70, 71, 72, 73, 74]])]\n",
      "[array([[ 0,  1,  2,  3,  4],\n",
      "       [ 5,  6,  7,  8,  9],\n",
      "       [10, 11, 12, 13, 14],\n",
      "       [15, 16, 17, 18, 19],\n",
      "       [20, 21, 22, 23, 24]]), array([[25, 26, 27, 28, 29],\n",
      "       [30, 31, 32, 33, 34],\n",
      "       [35, 36, 37, 38, 39],\n",
      "       [40, 41, 42, 43, 44],\n",
      "       [45, 46, 47, 48, 49]]), array([[50, 51, 52, 53, 54],\n",
      "       [55, 56, 57, 58, 59],\n",
      "       [60, 61, 62, 63, 64],\n",
      "       [65, 66, 67, 68, 69],\n",
      "       [70, 71, 72, 73, 74]]), array([[75, 76, 77, 78, 79],\n",
      "       [80, 81, 82, 83, 84],\n",
      "       [85, 86, 87, 88, 89],\n",
      "       [90, 91, 92, 93, 94],\n",
      "       [95, 96, 97, 98, 99]]), array([[100, 101, 102, 103, 104],\n",
      "       [105, 106, 107, 108, 109],\n",
      "       [110, 111, 112, 113, 114],\n",
      "       [115, 116, 117, 118, 119],\n",
      "       [120, 121, 122, 123, 124]])]\n"
     ]
    }
   ],
   "source": [
    "mat3d = np.arange(125).reshape(5,5,5)\n",
    "print(mat3d)\n",
    "\n",
    "for mat in mat3d:\n",
    "    print(mat)\n",
    "    \n",
    "print([i for i in mat3d[2:3,1:3,:]])\n",
    "print([i for i in mat3d[2:3,...]])\n",
    "print([i for i in mat3d])"
   ]
  },
  {
   "cell_type": "markdown",
   "id": "4f19d023",
   "metadata": {},
   "source": [
    "# Exercise"
   ]
  },
  {
   "cell_type": "code",
   "execution_count": 93,
   "id": "d55fefff",
   "metadata": {},
   "outputs": [],
   "source": [
    "def operator(mat_ex):\n",
    "    print(mat_ex)\n",
    "\n",
    "    mat_ex[1,[0,2],1:4] = 1\n",
    "    print(mat_ex)\n",
    "    mat_ex[mat_ex%2 == 1] = 1\n",
    "    mat_ex[mat_ex%2 == 0] = 0\n",
    "\n",
    "    print(mat_ex)\n",
    "    print(mat_ex.reshape(9,5))\n"
   ]
  },
  {
   "cell_type": "code",
   "execution_count": 94,
   "id": "62bcfe23",
   "metadata": {},
   "outputs": [
    {
     "name": "stdout",
     "output_type": "stream",
     "text": [
      "[[[ 0  1  2  3  4]\n",
      "  [ 5  6  7  8  9]\n",
      "  [10 11 12 13 14]]\n",
      "\n",
      " [[15 16 17 18 19]\n",
      "  [20 21 22 23 24]\n",
      "  [25 26 27 28 29]]\n",
      "\n",
      " [[30 31 32 33 34]\n",
      "  [35 36 37 38 39]\n",
      "  [40 41 42 43 44]]]\n",
      "[[[ 0  1  2  3  4]\n",
      "  [ 5  6  7  8  9]\n",
      "  [10 11 12 13 14]]\n",
      "\n",
      " [[15  1  1  1 19]\n",
      "  [20 21 22 23 24]\n",
      "  [25  1  1  1 29]]\n",
      "\n",
      " [[30 31 32 33 34]\n",
      "  [35 36 37 38 39]\n",
      "  [40 41 42 43 44]]]\n",
      "[[[0 1 0 1 0]\n",
      "  [1 0 1 0 1]\n",
      "  [0 1 0 1 0]]\n",
      "\n",
      " [[1 1 1 1 1]\n",
      "  [0 1 0 1 0]\n",
      "  [1 1 1 1 1]]\n",
      "\n",
      " [[0 1 0 1 0]\n",
      "  [1 0 1 0 1]\n",
      "  [0 1 0 1 0]]]\n",
      "[[0 1 0 1 0]\n",
      " [1 0 1 0 1]\n",
      " [0 1 0 1 0]\n",
      " [1 1 1 1 1]\n",
      " [0 1 0 1 0]\n",
      " [1 1 1 1 1]\n",
      " [0 1 0 1 0]\n",
      " [1 0 1 0 1]\n",
      " [0 1 0 1 0]]\n"
     ]
    }
   ],
   "source": [
    "mat_ex = np.arange(45).reshape(3,3,5)\n",
    "operator(mat_ex)"
   ]
  }
 ],
 "metadata": {
  "kernelspec": {
   "display_name": "Python 3.9.7",
   "language": "python",
   "name": "python397jvsc74a57bd038cca0c38332a56087b24af0bc80247f4fced29cb4f7f437d91dc159adec9c4e"
  },
  "language_info": {
   "codemirror_mode": {
    "name": "ipython",
    "version": 3
   },
   "file_extension": ".py",
   "mimetype": "text/x-python",
   "name": "python",
   "nbconvert_exporter": "python",
   "pygments_lexer": "ipython3",
   "version": "3.9.7"
  }
 },
 "nbformat": 4,
 "nbformat_minor": 5
}
