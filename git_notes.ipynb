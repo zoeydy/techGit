{
 "cells": [
  {
   "cell_type": "markdown",
   "id": "3c4b639a",
   "metadata": {},
   "source": [
    "[git configuration CMEE](https://mhasoba.github.io/TheMulQuaBio/notebooks/03-Git.html) \\\n",
    "[git configuration 图灵星球](https://turingplanet.org/git%E5%92%8Cgithub%E6%95%99%E7%A8%8B/)"
   ]
  },
  {
   "cell_type": "markdown",
   "id": "5166799a",
   "metadata": {},
   "source": [
    "`git log`: check git 上传历史记录\\\n",
    "`rm -rf .git`: [delete the local github repository](https://stackoverflow.com/questions/1514054/how-do-i-delete-a-local-repository-in-git)\n"
   ]
  },
  {
   "cell_type": "markdown",
   "id": "b42803e8",
   "metadata": {},
   "source": [
    "# GitHub initialization\n",
    "## new terminal configuration\n",
    "### configure at terminal\n",
    "`\n",
    "sudo apt-get install git\n",
    "git config --global user.name \"Your Name\"\n",
    "git config --global user.email \"your.login@imperial.ac.uk\"\n",
    "git config --list\n",
    "`\n",
    "### set up access\n",
    "connecting to GitHub with [SSH](https://docs.github.com/en/authentication/connecting-to-github-with-ssh)\\\n",
    "[bitbucket](https://confluence.atlassian.com/bitbucket/set-up-ssh-for-git-728138079.html)\n",
    "\n",
    "### remote [set up](https://docs.github.com/en/get-started/importing-your-projects-to-github/importing-source-code-to-github/adding-an-existing-project-to-github-using-the-command-line)\n",
    "create a new repo on the remote service with the same name as the local porject name\\\n",
    "[bitbucket](https://confluence.atlassian.com/bitbucket/set-up-a-repository-877174034.html)\n",
    "\n",
    "## initialize the local git repository\n",
    "`\n",
    "git init\n",
    "git remote add origin (remote git ssh, e.g.git@github.com:zoeydy/techGit.git)\n",
    "git remote -v\n",
    "`\n",
    "\n"
   ]
  },
  {
   "cell_type": "markdown",
   "id": "3e127e09",
   "metadata": {},
   "source": [
    "# working directory(工作区), staging area(暂存区), repository(版本区)\n",
    "\n",
    "`add` &rarr; **staging area** \\\n",
    "\n",
    "`git diff`: the difference between **working directory** and **staging area** (main/master的). \\\n",
    "`git diff --cached`: the difference between **staging area** and **the version of last `commit`** \\\n",
    "`git diff HEAD`: **工作区**和**当前暂存区**的区别\n",
    "\n",
    "## 从暂存区撤回(慎用，试用时将本地内容也回退到之前版本了)\n",
    "`git checkout master`: 退回当前\n",
    "`git reset --hard HEAD`: 当前内容退回到上次commit\n",
    "`git log --oneline`: 显示记录及其index\n",
    "`git reset --hard (index from git log --oneline)`: 退回指定位置（在此之前commit的内容包括本地都将删除）"
   ]
  },
  {
   "cell_type": "markdown",
   "id": "70f9c1e7",
   "metadata": {},
   "source": [
    "# change the name of the branch\n",
    "* after changing the name of the branch do the following on the terminal:\n",
    "`\n",
    "git branch -m main master\n",
    "git fetch origin\n",
    "git branch -u origin/master master\n",
    "git remote set-head origin -a\n",
    "`"
   ]
  }
 ],
 "metadata": {
  "kernelspec": {
   "display_name": "Python 3.9.7",
   "language": "python",
   "name": "python397jvsc74a57bd038cca0c38332a56087b24af0bc80247f4fced29cb4f7f437d91dc159adec9c4e"
  },
  "language_info": {
   "codemirror_mode": {
    "name": "ipython",
    "version": 3
   },
   "file_extension": ".py",
   "mimetype": "text/x-python",
   "name": "python",
   "nbconvert_exporter": "python",
   "pygments_lexer": "ipython3",
   "version": "3.9.7"
  }
 },
 "nbformat": 4,
 "nbformat_minor": 5
}
