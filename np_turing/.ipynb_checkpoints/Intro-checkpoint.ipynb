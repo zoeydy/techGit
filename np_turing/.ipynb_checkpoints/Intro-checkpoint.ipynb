{
 "cells": [
  {
   "cell_type": "markdown",
   "id": "d9cce796",
   "metadata": {},
   "source": [
    "# Example"
   ]
  },
  {
   "cell_type": "code",
   "execution_count": 26,
   "id": "1cefe211",
   "metadata": {},
   "outputs": [],
   "source": [
    "import numpy as np"
   ]
  },
  {
   "cell_type": "code",
   "execution_count": 4,
   "id": "685ef090",
   "metadata": {},
   "outputs": [
    {
     "name": "stdout",
     "output_type": "stream",
     "text": [
      "[[1 2 3 4]\n",
      " [5 6 7 8]]\n",
      "(2, 4)\n"
     ]
    }
   ],
   "source": [
    "np_array = np.array([[1,2,3,4],[5,6,7,8]])\n",
    "print(np_array)\n",
    "print(np_array.shape)"
   ]
  },
  {
   "cell_type": "code",
   "execution_count": 8,
   "id": "72805dac",
   "metadata": {},
   "outputs": [
    {
     "name": "stdout",
     "output_type": "stream",
     "text": [
      "[[1. 1. 1. 1. 1. 1. 1. 1. 1. 1.]\n",
      " [1. 1. 1. 1. 1. 1. 1. 1. 1. 1.]\n",
      " [1. 1. 1. 1. 1. 1. 1. 1. 1. 1.]\n",
      " [1. 1. 1. 1. 1. 1. 1. 1. 1. 1.]\n",
      " [1. 1. 1. 1. 1. 1. 1. 1. 1. 1.]\n",
      " [1. 1. 1. 1. 1. 1. 1. 1. 1. 1.]\n",
      " [1. 1. 1. 1. 1. 1. 1. 1. 1. 1.]\n",
      " [1. 1. 1. 1. 1. 1. 1. 1. 1. 1.]\n",
      " [1. 1. 1. 1. 1. 1. 1. 1. 1. 1.]\n",
      " [1. 1. 1. 1. 1. 1. 1. 1. 1. 1.]]\n"
     ]
    }
   ],
   "source": [
    "np_array = np.ones((10,10), dtype = np.float64)\n",
    "print(np_array)"
   ]
  },
  {
   "cell_type": "code",
   "execution_count": 25,
   "id": "be367e02",
   "metadata": {},
   "outputs": [
    {
     "name": "stdout",
     "output_type": "stream",
     "text": [
      "[[1. 1. 1. 1. 1. 1. 1. 1. 1. 1. 1. 1. 1. 1. 1. 1. 1. 1. 1. 1. 1. 1. 1. 1.\n",
      "  1. 1. 1. 1. 1. 1. 1. 1. 1. 1. 1. 1. 1. 1. 1. 1. 1. 1. 1. 1. 1. 1. 1. 1.\n",
      "  1. 1.]\n",
      " [1. 1. 1. 1. 1. 1. 1. 1. 1. 1. 1. 1. 1. 1. 1. 1. 1. 1. 1. 1. 1. 1. 1. 1.\n",
      "  1. 1. 1. 1. 1. 1. 1. 1. 1. 1. 1. 1. 1. 1. 1. 1. 1. 1. 1. 1. 1. 1. 1. 1.\n",
      "  1. 1.]]\n"
     ]
    }
   ],
   "source": [
    "reshape_np_array = np_array.reshape(2,50)\n",
    "print(reshape_np_array)"
   ]
  },
  {
   "cell_type": "code",
   "execution_count": 24,
   "id": "26c94def",
   "metadata": {},
   "outputs": [
    {
     "name": "stdout",
     "output_type": "stream",
     "text": [
      "error:  <ipykernel.iostream.OutStream object at 0x7fdbf1ba6610>\n"
     ]
    }
   ],
   "source": [
    "import sys\n",
    "\n",
    "# this will generate error\n",
    "try:\n",
    "    np_array.reshape((2,49))\n",
    "except:\n",
    "    print('error: ', sys.stderr)\n"
   ]
  },
  {
   "cell_type": "markdown",
   "id": "6ddc2f21",
   "metadata": {},
   "source": [
    "# Numpy V.S. List"
   ]
  },
  {
   "cell_type": "markdown",
   "id": "516e2b76",
   "metadata": {},
   "source": [
    "## Size"
   ]
  },
  {
   "cell_type": "code",
   "execution_count": 29,
   "id": "364691e8",
   "metadata": {},
   "outputs": [
    {
     "name": "stdout",
     "output_type": "stream",
     "text": [
      "The size of python_list is 48000 \n",
      "The size of numpy array is 8000\n"
     ]
    }
   ],
   "source": [
    "import sys\n",
    "\n",
    "python_list = range(1000)\n",
    "np_array = np.arange(1000)\n",
    "print(f'The size of python_list is {sys.getsizeof(python_list)*len(python_list)} \\nThe size of numpy array is {np_array.size*np_array.itemsize}')"
   ]
  },
  {
   "cell_type": "markdown",
   "id": "ace032e2",
   "metadata": {},
   "source": [
    "## 计算效率"
   ]
  },
  {
   "cell_type": "code",
   "execution_count": 35,
   "id": "9b5f826f",
   "metadata": {},
   "outputs": [
    {
     "name": "stdout",
     "output_type": "stream",
     "text": [
      "Python multiplication used: 0.016598224639892578\n",
      "Numpy array used: 0.00034308433532714844\n"
     ]
    }
   ],
   "source": [
    "import time\n",
    "size = 100000\n",
    "\n",
    "# list\n",
    "list1 = range(size)\n",
    "list2 = range(size)\n",
    "\n",
    "start_time = time.time()\n",
    "python_multi = [(n1*n2) for n1, n2 in zip(list1, list2)]\n",
    "print(\"Python multiplication used: {}\".format(time.time()-start_time))\n",
    "\n",
    "# array\n",
    "array1 = np.arange(size)\n",
    "array2 = np.arange(size)\n",
    "\n",
    "start_time = time.time()\n",
    "numpy_multi = array1*array2\n",
    "print(\"Numpy array used: {}\".format(time.time()-start_time))"
   ]
  },
  {
   "cell_type": "markdown",
   "id": "bb07f62b",
   "metadata": {},
   "source": [
    "# 统计函数"
   ]
  },
  {
   "cell_type": "code",
   "execution_count": 38,
   "id": "309d5115",
   "metadata": {},
   "outputs": [
    {
     "name": "stdout",
     "output_type": "stream",
     "text": [
      "0\n",
      "19\n",
      "10.5\n",
      "10.5\n"
     ]
    }
   ],
   "source": [
    "np_array = np.arange(1,21).reshape(4,5)\n",
    "print(np.argmin(np_array))\n",
    "print(np.argmax(np_array))\n",
    "print(np.mean(np_array))\n",
    "print(np.median(np_array))"
   ]
  },
  {
   "cell_type": "markdown",
   "id": "affe7a95",
   "metadata": {},
   "source": [
    "# 文件读写"
   ]
  },
  {
   "cell_type": "code",
   "execution_count": 49,
   "id": "abd8c388",
   "metadata": {},
   "outputs": [
    {
     "name": "stdout",
     "output_type": "stream",
     "text": [
      "The save text: [1 2 3 4 5]\n",
      "The load text: [1 2 3 4 5]\n"
     ]
    }
   ],
   "source": [
    "from numpy import savetxt\n",
    "np_array = np.array([1,2,3,4,5])\n",
    "savetxt('intro.csv', np_array, delimiter=',')\n",
    "print(f'The save text: {np_array}')\n",
    "\n",
    "from numpy import loadtxt\n",
    "data = loadtxt('intro.csv', delimiter=',')\n",
    "print(f'The load text: {data.astype(np.int32)}')"
   ]
  }
 ],
 "metadata": {
  "kernelspec": {
   "display_name": "Python 3.9.7",
   "language": "python",
   "name": "python397jvsc74a57bd038cca0c38332a56087b24af0bc80247f4fced29cb4f7f437d91dc159adec9c4e"
  },
  "language_info": {
   "codemirror_mode": {
    "name": "ipython",
    "version": 3
   },
   "file_extension": ".py",
   "mimetype": "text/x-python",
   "name": "python",
   "nbconvert_exporter": "python",
   "pygments_lexer": "ipython3",
   "version": "3.9.7"
  }
 },
 "nbformat": 4,
 "nbformat_minor": 5
}
