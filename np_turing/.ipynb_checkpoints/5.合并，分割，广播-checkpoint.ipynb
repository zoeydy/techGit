{
 "cells": [
  {
   "cell_type": "markdown",
   "id": "a6331faf",
   "metadata": {},
   "source": [
    "# Transposing Array"
   ]
  },
  {
   "cell_type": "code",
   "execution_count": 46,
   "id": "ff2e5fec",
   "metadata": {},
   "outputs": [
    {
     "name": "stdout",
     "output_type": "stream",
     "text": [
      "[[0 1 2]\n",
      " [3 4 5]]\n",
      "[[0 3]\n",
      " [1 4]\n",
      " [2 5]] \n",
      "**************\n",
      "[[[ 0  1  2  3]\n",
      "  [ 4  5  6  7]\n",
      "  [ 8  9 10 11]]\n",
      "\n",
      " [[12 13 14 15]\n",
      "  [16 17 18 19]\n",
      "  [20 21 22 23]]]\n",
      "The shape of mat2: (2, 3, 4)\n",
      "[[[ 0 12]\n",
      "  [ 4 16]\n",
      "  [ 8 20]]\n",
      "\n",
      " [[ 1 13]\n",
      "  [ 5 17]\n",
      "  [ 9 21]]\n",
      "\n",
      " [[ 2 14]\n",
      "  [ 6 18]\n",
      "  [10 22]]\n",
      "\n",
      " [[ 3 15]\n",
      "  [ 7 19]\n",
      "  [11 23]]]\n",
      "[[[ 0 12]\n",
      "  [ 4 16]\n",
      "  [ 8 20]]\n",
      "\n",
      " [[ 1 13]\n",
      "  [ 5 17]\n",
      "  [ 9 21]]\n",
      "\n",
      " [[ 2 14]\n",
      "  [ 6 18]\n",
      "  [10 22]]\n",
      "\n",
      " [[ 3 15]\n",
      "  [ 7 19]\n",
      "  [11 23]]]\n",
      "[[[ True  True]\n",
      "  [ True  True]\n",
      "  [ True  True]]\n",
      "\n",
      " [[ True  True]\n",
      "  [ True  True]\n",
      "  [ True  True]]\n",
      "\n",
      " [[ True  True]\n",
      "  [ True  True]\n",
      "  [ True  True]]\n",
      "\n",
      " [[ True  True]\n",
      "  [ True  True]\n",
      "  [ True  True]]]\n",
      "The shape of transposed mat2 is: (4, 3, 2) \n",
      "**************\n",
      "The mat2 transposed in (2,0,1):\n",
      " [[[ 0  4  8]\n",
      "  [12 16 20]]\n",
      "\n",
      " [[ 1  5  9]\n",
      "  [13 17 21]]\n",
      "\n",
      " [[ 2  6 10]\n",
      "  [14 18 22]]\n",
      "\n",
      " [[ 3  7 11]\n",
      "  [15 19 23]]]\n",
      "Swape the axis: \n",
      "[[[ 0 12]\n",
      "  [ 4 16]\n",
      "  [ 8 20]]\n",
      "\n",
      " [[ 1 13]\n",
      "  [ 5 17]\n",
      "  [ 9 21]]\n",
      "\n",
      " [[ 2 14]\n",
      "  [ 6 18]\n",
      "  [10 22]]\n",
      "\n",
      " [[ 3 15]\n",
      "  [ 7 19]\n",
      "  [11 23]]]\n",
      "[[[ True  True]\n",
      "  [ True  True]\n",
      "  [ True  True]]\n",
      "\n",
      " [[ True  True]\n",
      "  [ True  True]\n",
      "  [ True  True]]\n",
      "\n",
      " [[ True  True]\n",
      "  [ True  True]\n",
      "  [ True  True]]\n",
      "\n",
      " [[ True  True]\n",
      "  [ True  True]\n",
      "  [ True  True]]]\n"
     ]
    }
   ],
   "source": [
    "import numpy as np\n",
    "\n",
    "mat1 = np.arange(6).reshape(2,3)\n",
    "print(mat1)\n",
    "print(np.transpose(mat1), '\\n**************')\n",
    "\n",
    "mat2 = np.arange(24).reshape(2,3,4)\n",
    "print(mat2)\n",
    "print(f'The shape of mat2: {mat2.shape}')\n",
    "print(mat2.transpose())\n",
    "print(np.transpose(mat2))\n",
    "print(np.transpose(mat2) == mat2.transpose())\n",
    "print(f'The shape of transposed mat2 is: {np.transpose(mat2).shape}', '\\n**************')\n",
    "\n",
    "print(f'The mat2 transposed in (2,0,1):\\n {mat2.transpose((2,0,1))}')\n",
    "\n",
    "print(f'Swape the axis: \\n{mat2.swapaxes(0,2)}')\n",
    "print(mat2.swapaxes(0,2) == mat2.transpose(2,1,0))"
   ]
  },
  {
   "cell_type": "markdown",
   "id": "d8e9bb98",
   "metadata": {},
   "source": [
    "# Stacking Arrays"
   ]
  },
  {
   "cell_type": "code",
   "execution_count": 40,
   "id": "a998f34a",
   "metadata": {},
   "outputs": [
    {
     "name": "stdout",
     "output_type": "stream",
     "text": [
      "[[1 1 1]\n",
      " [1 1 1]]\n",
      "[[2 2 2]\n",
      " [2 2 2]] \n",
      "\n",
      "h, m1, m1: \n",
      " [[1 1 1 1 1 1]\n",
      " [1 1 1 1 1 1]]\n",
      "h, m1, m2: \n",
      " [[1 1 1 2 2 2]\n",
      " [1 1 1 2 2 2]]\n",
      "h, m2, m1: \n",
      " [[2 2 2 1 1 1]\n",
      " [2 2 2 1 1 1]]\n",
      "v, m2, m1: \n",
      " [[1 1 1]\n",
      " [1 1 1]\n",
      " [2 2 2]\n",
      " [2 2 2]]\n"
     ]
    }
   ],
   "source": [
    "m1 = np.full((2,3), 1)\n",
    "m2 = np.full((2,3), 2)\n",
    "\n",
    "print(m1)\n",
    "print(m2, '\\n')\n",
    "\n",
    "print(f'h, m1, m1: \\n {np.hstack((m1,m1))}')\n",
    "print(f'h, m1, m2: \\n {np.hstack((m1,m2))}')\n",
    "print(f'h, m2, m1: \\n {np.hstack((m2,m1))}')\n",
    "print(f'v, m1, m2: \\n {np.vstack((m1,m2))}')"
   ]
  },
  {
   "cell_type": "code",
   "execution_count": 57,
   "id": "cf0319e8",
   "metadata": {},
   "outputs": [
    {
     "name": "stdout",
     "output_type": "stream",
     "text": [
      "[[[1 1 1]\n",
      "  [1 1 1]]\n",
      "\n",
      " [[2 2 2]\n",
      "  [2 2 2]]]\n"
     ]
    }
   ],
   "source": [
    "print(np.stack((m1,m2)))"
   ]
  },
  {
   "cell_type": "code",
   "execution_count": 44,
   "id": "ffff72b7",
   "metadata": {},
   "outputs": [
    {
     "name": "stdout",
     "output_type": "stream",
     "text": [
      "concatenate 0: \n",
      " [[1 1 1]\n",
      " [1 1 1]\n",
      " [2 2 2]\n",
      " [2 2 2]]\n",
      "concatenate 1: \n",
      " [[1 1 1 2 2 2]\n",
      " [1 1 1 2 2 2]]\n"
     ]
    }
   ],
   "source": [
    "print(f'concatenate 0: \\n {np.concatenate((m1,m2), 0)}')\n",
    "print(f'concatenate 1: \\n {np.concatenate((m1,m2), 1)}')"
   ]
  },
  {
   "cell_type": "code",
   "execution_count": 66,
   "id": "56a466b8",
   "metadata": {},
   "outputs": [
    {
     "name": "stdout",
     "output_type": "stream",
     "text": [
      "[[1. 0. 0.]\n",
      " [0. 1. 0.]\n",
      " [0. 0. 1.]]\n",
      "Tile mat for 3 times in row: \n",
      " [[1. 0. 0.]\n",
      " [0. 1. 0.]\n",
      " [0. 0. 1.]\n",
      " [1. 0. 0.]\n",
      " [0. 1. 0.]\n",
      " [0. 0. 1.]\n",
      " [1. 0. 0.]\n",
      " [0. 1. 0.]\n",
      " [0. 0. 1.]]\n",
      "Tile mat for 9 times, 3 in row and 3 in column: \n",
      " [[1. 0. 0. 1. 0. 0. 1. 0. 0.]\n",
      " [0. 1. 0. 0. 1. 0. 0. 1. 0.]\n",
      " [0. 0. 1. 0. 0. 1. 0. 0. 1.]\n",
      " [1. 0. 0. 1. 0. 0. 1. 0. 0.]\n",
      " [0. 1. 0. 0. 1. 0. 0. 1. 0.]\n",
      " [0. 0. 1. 0. 0. 1. 0. 0. 1.]\n",
      " [1. 0. 0. 1. 0. 0. 1. 0. 0.]\n",
      " [0. 1. 0. 0. 1. 0. 0. 1. 0.]\n",
      " [0. 0. 1. 0. 0. 1. 0. 0. 1.]]\n",
      "Tile mat for 6 times, 3 in row and 2 in column: \n",
      " [[1. 0. 0. 1. 0. 0.]\n",
      " [0. 1. 0. 0. 1. 0.]\n",
      " [0. 0. 1. 0. 0. 1.]\n",
      " [1. 0. 0. 1. 0. 0.]\n",
      " [0. 1. 0. 0. 1. 0.]\n",
      " [0. 0. 1. 0. 0. 1.]\n",
      " [1. 0. 0. 1. 0. 0.]\n",
      " [0. 1. 0. 0. 1. 0.]\n",
      " [0. 0. 1. 0. 0. 1.]]\n"
     ]
    }
   ],
   "source": [
    "mat = np.eye(3)\n",
    "print(mat)\n",
    "print(f\"Tile mat for 3 times in row: \\n {np.tile(mat, (3,1))}\")\n",
    "print(f\"Tile mat for 9 times, 3 in row and 3 in column: \\n {np.tile(mat, (3,3))}\")\n",
    "print(f\"Tile mat for 6 times, 3 in row and 2 in column: \\n {np.tile(mat, (3,2))}\")"
   ]
  },
  {
   "cell_type": "markdown",
   "id": "0fd7749b",
   "metadata": {},
   "source": [
    "# Splitting Array"
   ]
  },
  {
   "cell_type": "code",
   "execution_count": 56,
   "id": "cef5bfd2",
   "metadata": {},
   "outputs": [
    {
     "name": "stdout",
     "output_type": "stream",
     "text": [
      "[[ 0  1  2  3]\n",
      " [ 4  5  6  7]\n",
      " [ 8  9 10 11]\n",
      " [12 13 14 15]\n",
      " [16 17 18 19]\n",
      " [20 21 22 23]\n",
      " [24 25 26 27]\n",
      " [28 29 30 31]\n",
      " [32 33 34 35]] \n",
      "\n",
      "vertical split: \n",
      " [[ 0  1  2  3]\n",
      " [ 4  5  6  7]\n",
      " [ 8  9 10 11]], \n",
      "[[12 13 14 15]\n",
      " [16 17 18 19]\n",
      " [20 21 22 23]], \n",
      "[[24 25 26 27]\n",
      " [28 29 30 31]\n",
      " [32 33 34 35]] \n",
      "\n",
      "horizontal split: \n",
      " [[ 0  1]\n",
      " [ 4  5]\n",
      " [ 8  9]\n",
      " [12 13]\n",
      " [16 17]\n",
      " [20 21]\n",
      " [24 25]\n",
      " [28 29]\n",
      " [32 33]], \n",
      "[[ 2  3]\n",
      " [ 6  7]\n",
      " [10 11]\n",
      " [14 15]\n",
      " [18 19]\n",
      " [22 23]\n",
      " [26 27]\n",
      " [30 31]\n",
      " [34 35]] \n",
      "\n"
     ]
    }
   ],
   "source": [
    "big_mat = np.arange(36).reshape(9,4)\n",
    "\n",
    "print(big_mat, '\\n')\n",
    "\n",
    "sp1, sp2, sp3 = np.vsplit(big_mat,3)\n",
    "print(f'vertical split: \\n {sp1}, \\n{sp2}, \\n{sp3} \\n')\n",
    "\n",
    "sph1, sph2 = np.hsplit(big_mat, 2)\n",
    "print(f'horizontal split: \\n {sph1}, \\n{sph2} \\n')"
   ]
  },
  {
   "cell_type": "markdown",
   "id": "eac84806",
   "metadata": {},
   "source": [
    "# Broadcasting"
   ]
  },
  {
   "cell_type": "markdown",
   "id": "03f05983",
   "metadata": {},
   "source": [
    "## 规则1 \n",
    "如果两个数组的维度不同，那么小维度数组的形状将会在最左边补1"
   ]
  },
  {
   "cell_type": "code",
   "execution_count": 81,
   "id": "4554545e",
   "metadata": {},
   "outputs": [
    {
     "name": "stdout",
     "output_type": "stream",
     "text": [
      "[[[0 1 2 3 4]]]\n",
      "[[[10 11 12 13 14]]]\n",
      "[[0 1 2]\n",
      " [3 4 5]]\n",
      "[[10 11 12]\n",
      " [13 14 15]]\n"
     ]
    }
   ],
   "source": [
    "mat = np.arange(5).reshape(1,1,5)\n",
    "print(mat)\n",
    "print(mat + [10,10,10,10,10])\n",
    "\n",
    "mat = np.arange(6).reshape(2,3)\n",
    "print(mat)\n",
    "print(mat + [10,10,10])"
   ]
  },
  {
   "cell_type": "markdown",
   "id": "642f86b0",
   "metadata": {},
   "source": [
    "## 规则2\n",
    "如果两个数组的形状不在任何一个维度上都匹配，那么数组的形状则会沿着维度相同的方向扩展，以匹配另一个数组的形状。"
   ]
  },
  {
   "cell_type": "code",
   "execution_count": 74,
   "id": "04682907",
   "metadata": {},
   "outputs": [
    {
     "name": "stdout",
     "output_type": "stream",
     "text": [
      "[[0 1 2]\n",
      " [3 4 5]]\n",
      "[[10 11 12]\n",
      " [23 24 25]]\n",
      "[[10 21 32]\n",
      " [13 24 35]]\n",
      "[[100 101 102]\n",
      " [103 104 105]]\n"
     ]
    }
   ],
   "source": [
    "mat = np.arange(6).reshape(2,3)\n",
    "print(mat)\n",
    "print(mat + [[10],[20]])\n",
    "print(mat + [[10,20,30]])\n",
    "print(mat + 100)"
   ]
  },
  {
   "cell_type": "markdown",
   "id": "89df3fac",
   "metadata": {},
   "source": [
    "## 规则3：\n",
    "如果两个数组的形状在任何一个维度上都不匹配，并且没有任何一个维度为1，那么就会引起异常"
   ]
  },
  {
   "cell_type": "code",
   "execution_count": 76,
   "id": "21018165",
   "metadata": {},
   "outputs": [
    {
     "name": "stdout",
     "output_type": "stream",
     "text": [
      "operands could not be broadcast together with shapes (2,3) (1,2) \n"
     ]
    }
   ],
   "source": [
    "try: \n",
    "    print(mat + [[10,20]])\n",
    "except ValueError as e:\n",
    "    print(e)"
   ]
  },
  {
   "cell_type": "markdown",
   "id": "9ca725c5",
   "metadata": {},
   "source": [
    "## 规则4: upcasting\n",
    "将不同数据类型的数组进行运算时，运算结果会自动将数据类型转变为更为精确的数据类型："
   ]
  },
  {
   "cell_type": "code",
   "execution_count": 86,
   "id": "e0b386a5",
   "metadata": {},
   "outputs": [
    {
     "name": "stdout",
     "output_type": "stream",
     "text": [
      "m1 datatype: int8 \n",
      "m2 datatype: int16 \n",
      "m1+m2 datatype: int16\n"
     ]
    }
   ],
   "source": [
    "m1 = np.arange(5, dtype = np.int8)\n",
    "m2 = np.arange(5,10, dtype = np.int16)\n",
    " \n",
    "print(f'm1 datatype: {m1.dtype} \\nm2 datatype: {m2.dtype} \\nm1+m2 datatype: {(m1+m2).dtype}')"
   ]
  },
  {
   "cell_type": "markdown",
   "id": "b5e1e262",
   "metadata": {},
   "source": [
    "# Exercise"
   ]
  },
  {
   "cell_type": "code",
   "execution_count": 99,
   "id": "86775d8a",
   "metadata": {},
   "outputs": [
    {
     "name": "stdout",
     "output_type": "stream",
     "text": [
      "[[0 1 2 3]\n",
      " [4 5 6 7]\n",
      " [0 1 2 3]\n",
      " [4 5 6 7]]\n",
      "[[0 1 2 3]\n",
      " [4 5 6 7]\n",
      " [0 1 2 3]\n",
      " [4 5 6 7]] \n",
      "\n",
      "[[0 1]\n",
      " [4 5]\n",
      " [0 1]\n",
      " [4 5]] \n",
      "\n",
      " [[2 3]\n",
      " [6 7]\n",
      " [2 3]\n",
      " [6 7]] \n",
      "\n",
      "[[0 1 0 1]\n",
      " [4 5 4 5]\n",
      " [0 1 0 1]\n",
      " [4 5 4 5]]\n"
     ]
    }
   ],
   "source": [
    "m1 = np.arange(8).reshape(2, 4)\n",
    "m2 = np.arange(8).reshape(2, 4)\n",
    "\n",
    "ans1c = np.concatenate((m1,m2),axis = 0)\n",
    "print(ans1c)\n",
    "ans1v = np.vstack((m1,m2))\n",
    "print(ans1v, '\\n')\n",
    "\n",
    "ans21, ans22 = np.hsplit(ans1c, 2)\n",
    "print(ans21, '\\n\\n', ans22, '\\n')\n",
    "\n",
    "ans3 = np.tile(ans21, (1,2))\n",
    "print(ans3)"
   ]
  }
 ],
 "metadata": {
  "kernelspec": {
   "display_name": "Python 3.9.7",
   "language": "python",
   "name": "python397jvsc74a57bd038cca0c38332a56087b24af0bc80247f4fced29cb4f7f437d91dc159adec9c4e"
  },
  "language_info": {
   "codemirror_mode": {
    "name": "ipython",
    "version": 3
   },
   "file_extension": ".py",
   "mimetype": "text/x-python",
   "name": "python",
   "nbconvert_exporter": "python",
   "pygments_lexer": "ipython3",
   "version": "3.9.7"
  }
 },
 "nbformat": 4,
 "nbformat_minor": 5
}
