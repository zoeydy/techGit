{
 "cells": [
  {
   "cell_type": "markdown",
   "id": "429e6c09",
   "metadata": {},
   "source": [
    "一个numpy array只含一种数据类型"
   ]
  },
  {
   "cell_type": "code",
   "execution_count": 2,
   "id": "4856b3aa",
   "metadata": {},
   "outputs": [
    {
     "data": {
      "text/plain": [
       "array([1, 2, 3])"
      ]
     },
     "execution_count": 2,
     "metadata": {},
     "output_type": "execute_result"
    }
   ],
   "source": [
    "import numpy as np\n",
    "np.array([1,2,3])"
   ]
  },
  {
   "cell_type": "code",
   "execution_count": 11,
   "id": "1f2fb7a1",
   "metadata": {},
   "outputs": [
    {
     "name": "stdout",
     "output_type": "stream",
     "text": [
      "[0. 0. 0. 0. 0.]\n",
      "(5,)\n"
     ]
    }
   ],
   "source": [
    "print(np.zeros((5)))\n",
    "print(np.zeros((5)).shape)"
   ]
  },
  {
   "cell_type": "code",
   "execution_count": 4,
   "id": "fdd55ffe",
   "metadata": {},
   "outputs": [
    {
     "data": {
      "text/plain": [
       "array([[0., 0., 0.],\n",
       "       [0., 0., 0.]])"
      ]
     },
     "execution_count": 4,
     "metadata": {},
     "output_type": "execute_result"
    }
   ],
   "source": [
    "np.zeros((2,3))"
   ]
  },
  {
   "cell_type": "code",
   "execution_count": 6,
   "id": "893209b8",
   "metadata": {},
   "outputs": [
    {
     "data": {
      "text/plain": [
       "array([[1., 1., 1.],\n",
       "       [1., 1., 1.],\n",
       "       [1., 1., 1.]])"
      ]
     },
     "execution_count": 6,
     "metadata": {},
     "output_type": "execute_result"
    }
   ],
   "source": [
    "np.ones((3,3))"
   ]
  },
  {
   "cell_type": "code",
   "execution_count": 7,
   "id": "4be1b17d",
   "metadata": {},
   "outputs": [
    {
     "data": {
      "text/plain": [
       "array([[7, 7, 7, 7, 7],\n",
       "       [7, 7, 7, 7, 7]])"
      ]
     },
     "execution_count": 7,
     "metadata": {},
     "output_type": "execute_result"
    }
   ],
   "source": [
    "np.full((2,5), 7)"
   ]
  },
  {
   "cell_type": "code",
   "execution_count": 8,
   "id": "1604df31",
   "metadata": {},
   "outputs": [
    {
     "data": {
      "text/plain": [
       "array([[0., 0., 0., 0., 0.],\n",
       "       [0., 0., 0., 0., 0.],\n",
       "       [0., 0., 0., 0., 0.],\n",
       "       [0., 0., 0., 0., 0.],\n",
       "       [0., 0., 0., 0., 0.]])"
      ]
     },
     "execution_count": 8,
     "metadata": {},
     "output_type": "execute_result"
    }
   ],
   "source": [
    "np.empty((5,5))"
   ]
  },
  {
   "cell_type": "markdown",
   "id": "f61346f3",
   "metadata": {},
   "source": [
    "# Axis, rank(like dimention), shape, size and Data Type"
   ]
  },
  {
   "cell_type": "code",
   "execution_count": 13,
   "id": "30483ab3",
   "metadata": {},
   "outputs": [
    {
     "name": "stdout",
     "output_type": "stream",
     "text": [
      "(3, 4)\n",
      "2\n",
      "12\n"
     ]
    }
   ],
   "source": [
    "np_array = np.zeros((3,4))\n",
    "print(np_array.shape) \n",
    "print(np_array.ndim) # rank\n",
    "print(np_array.size)"
   ]
  },
  {
   "cell_type": "code",
   "execution_count": 17,
   "id": "ee75e29d",
   "metadata": {},
   "outputs": [
    {
     "name": "stdout",
     "output_type": "stream",
     "text": [
      "int64\n",
      "8\n",
      "float64\n",
      "8\n",
      "float32\n",
      "4\n",
      "float128\n",
      "16\n"
     ]
    }
   ],
   "source": [
    "int_array = np.array([1,2,3])\n",
    "print(int_array.dtype)\n",
    "print(int_array.itemsize)\n",
    "\n",
    "float_array = np.array([1.,2.,3.])\n",
    "print(float_array.dtype)\n",
    "print(float_array.itemsize)\n",
    "\n",
    "float32_array = np.array([1,2,3], dtype = np.float32)\n",
    "print(float32_array.dtype)\n",
    "print(float32_array.itemsize)\n",
    "\n",
    "float128_array = np.array([1,2,3], dtype = np.float128)\n",
    "print(float128_array.dtype)\n",
    "print(float128_array.itemsize)"
   ]
  },
  {
   "cell_type": "code",
   "execution_count": 4,
   "id": "1c107e7d",
   "metadata": {},
   "outputs": [
    {
     "name": "stdout",
     "output_type": "stream",
     "text": [
      "[[3 3 3]\n",
      " [3 3 3]]\n",
      "2\n",
      "[6 6 6 6 6 6]\n",
      "1\n"
     ]
    }
   ],
   "source": [
    "ary1 = np.full((2,3), 3)\n",
    "ary2 = np.full(6, 6)\n",
    "print(ary1)\n",
    "print(ary1.ndim) \n",
    "print(ary2)\n",
    "print(ary2.ndim)"
   ]
  },
  {
   "cell_type": "markdown",
   "id": "b9b70aa3",
   "metadata": {},
   "source": [
    "# np.reshape(), np.ravel()"
   ]
  },
  {
   "cell_type": "code",
   "execution_count": 33,
   "id": "5302bf25",
   "metadata": {},
   "outputs": [
    {
     "name": "stdout",
     "output_type": "stream",
     "text": [
      "[[1000    3]\n",
      " [   3    3]\n",
      " [   3    3]]\n",
      "[[1000    3    3]\n",
      " [   3    3    3]]\n",
      "[2000    3    3    3    3    3]\n",
      "[[2000    3]\n",
      " [   3    3]\n",
      " [   3    3]]\n",
      "[[2000    3    3]\n",
      " [   3    3    3]]\n"
     ]
    }
   ],
   "source": [
    "x = np.reshape(ary1, (3,2))\n",
    "x[0,0] = 1000\n",
    "print(x)\n",
    "print(ary1)\n",
    "\n",
    "y = x.ravel()\n",
    "y[0] = 2000\n",
    "print(y)\n",
    "print(x)\n",
    "print(ary1)"
   ]
  },
  {
   "cell_type": "markdown",
   "id": "ab17f430",
   "metadata": {},
   "source": [
    "# copy()"
   ]
  },
  {
   "cell_type": "code",
   "execution_count": 34,
   "id": "19e4047a",
   "metadata": {},
   "outputs": [
    {
     "name": "stdout",
     "output_type": "stream",
     "text": [
      "[2000    1    2    3] [0 1 2 3]\n"
     ]
    }
   ],
   "source": [
    "npary1 = np.arange(4)\n",
    "npary2 = npary1.copy()\n",
    "npary2[0] = 2000\n",
    "print(npary2, npary1)"
   ]
  },
  {
   "cell_type": "markdown",
   "id": "10f1c5ae",
   "metadata": {},
   "source": [
    "# Arithmetic Operations (一对一)"
   ]
  },
  {
   "cell_type": "code",
   "execution_count": 35,
   "id": "2323bc29",
   "metadata": {},
   "outputs": [
    {
     "name": "stdout",
     "output_type": "stream",
     "text": [
      "[ 6  8 10 12]\n",
      "[-4 -4 -4 -4]\n",
      "[ 5 12 21 32]\n",
      "[0.2        0.33333333 0.42857143 0.5       ]\n",
      "[0 0 0 0]\n",
      "[1 2 3 4]\n",
      "[    1    64  2187 65536]\n"
     ]
    }
   ],
   "source": [
    "array1 = np.array([1, 2, 3, 4])\n",
    "array2 = np.array([5, 6, 7, 8])\n",
    "print(array1+array2)\n",
    "print(array1-array2)\n",
    "print(array1*array2)\n",
    "print(array1/array2)\n",
    "print(array1//array2)\n",
    "print(array1%array2)\n",
    "print(array1**array2)"
   ]
  },
  {
   "cell_type": "markdown",
   "id": "3324b4e0",
   "metadata": {},
   "source": [
    "# Random"
   ]
  },
  {
   "cell_type": "code",
   "execution_count": 39,
   "id": "ee209f6c",
   "metadata": {},
   "outputs": [
    {
     "name": "stdout",
     "output_type": "stream",
     "text": [
      "[[0.64230532 0.3207638  0.4847129 ]\n",
      " [0.55280017 0.13953237 0.42929326]\n",
      " [0.29947835 0.66217462 0.89917161]]\n",
      "[68 65 84 28 63]\n",
      "[[0.84184667 0.45904733 0.65199748 0.75886582]\n",
      " [0.26770565 0.04526921 0.15572596 0.74531184]\n",
      " [0.37055126 0.17231256 0.32307311 0.62992425]]\n",
      "[ 0.30684206 -0.8843928  -0.93743522  2.48566201 -1.28618745  0.89929661\n",
      " -1.84782853  0.09079386  0.9272166   1.27183698]\n"
     ]
    }
   ],
   "source": [
    "print(np.random.random((3,3))) # 创建数值在0-1之间的随机数组\n",
    "print(np.random.randint(100, size=(5))) # 创建5个数值范围在0-100间的随机整数\n",
    "print(np.random.rand(3,4)) # 创建一个（3，4）的数值在0-1点矩阵\n",
    "print(np.random.randn(10)) # 创建一个长度为10，数值范围能构成正态分布的数组"
   ]
  },
  {
   "cell_type": "markdown",
   "id": "807ea5d6",
   "metadata": {},
   "source": [
    "# 单位矩阵（eye）"
   ]
  },
  {
   "cell_type": "code",
   "execution_count": 42,
   "id": "a1ff5249",
   "metadata": {},
   "outputs": [
    {
     "name": "stdout",
     "output_type": "stream",
     "text": [
      "[[1. 0. 0.]\n",
      " [0. 1. 0.]\n",
      " [0. 0. 1.]]\n"
     ]
    }
   ],
   "source": [
    "eye_array = np.eye(3)\n",
    "print(eye_array)"
   ]
  },
  {
   "cell_type": "markdown",
   "id": "08be58c4",
   "metadata": {},
   "source": [
    "# 等差数组--添加步长/np.linspace()"
   ]
  },
  {
   "cell_type": "code",
   "execution_count": 45,
   "id": "0eca0408",
   "metadata": {},
   "outputs": [
    {
     "name": "stdout",
     "output_type": "stream",
     "text": [
      "[1 2 3 4]\n",
      "[1. 2. 3. 4.]\n",
      "[1.  1.5 2.  2.5 3.  3.5 4.  4.5]\n"
     ]
    }
   ],
   "source": [
    "print(np.arange(1,5))\n",
    "print(np.arange(1.,5.))\n",
    "print(np.arange(1,5,0.5))"
   ]
  },
  {
   "cell_type": "code",
   "execution_count": 47,
   "id": "1868118e",
   "metadata": {},
   "outputs": [
    {
     "data": {
      "text/plain": [
       "array([0.        , 0.55555556, 1.11111111, 1.66666667, 2.22222222,\n",
       "       2.77777778, 3.33333333, 3.88888889, 4.44444444, 5.        ])"
      ]
     },
     "execution_count": 47,
     "metadata": {},
     "output_type": "execute_result"
    }
   ],
   "source": [
    "np.linspace(0,5,10)"
   ]
  },
  {
   "cell_type": "markdown",
   "id": "1844e44a",
   "metadata": {},
   "source": [
    "# fromfunction()"
   ]
  },
  {
   "cell_type": "code",
   "execution_count": 50,
   "id": "b365b62d",
   "metadata": {},
   "outputs": [
    {
     "data": {
      "text/plain": [
       "array([[ True, False, False],\n",
       "       [False,  True, False],\n",
       "       [False, False,  True]])"
      ]
     },
     "execution_count": 50,
     "metadata": {},
     "output_type": "execute_result"
    }
   ],
   "source": [
    "np.fromfunction(lambda i,j: i == j, (3,3), dtype = int)"
   ]
  },
  {
   "cell_type": "code",
   "execution_count": 49,
   "id": "86f0b6a3",
   "metadata": {},
   "outputs": [
    {
     "data": {
      "text/plain": [
       "array([[0, 1, 2],\n",
       "       [1, 2, 3],\n",
       "       [2, 3, 4]])"
      ]
     },
     "execution_count": 49,
     "metadata": {},
     "output_type": "execute_result"
    }
   ],
   "source": [
    "np.fromfunction(lambda i,j: i+j, (3,3), dtype=int)"
   ]
  },
  {
   "cell_type": "code",
   "execution_count": 51,
   "id": "4e899de0",
   "metadata": {},
   "outputs": [
    {
     "data": {
      "text/plain": [
       "array([[[0., 1., 2., 3., 4., 5., 6.],\n",
       "        [0., 1., 2., 3., 4., 5., 6.]],\n",
       "\n",
       "       [[0., 1., 2., 3., 4., 5., 6.],\n",
       "        [1., 2., 3., 4., 5., 6., 7.]],\n",
       "\n",
       "       [[0., 1., 2., 3., 4., 5., 6.],\n",
       "        [2., 3., 4., 5., 6., 7., 8.]]])"
      ]
     },
     "execution_count": 51,
     "metadata": {},
     "output_type": "execute_result"
    }
   ],
   "source": [
    "def my_func(x, y, z):\n",
    "    return x*y+z\n",
    "np.fromfunction(my_func, (3,2,7))"
   ]
  }
 ],
 "metadata": {
  "kernelspec": {
   "display_name": "Python 3.9.7",
   "language": "python",
   "name": "python397jvsc74a57bd038cca0c38332a56087b24af0bc80247f4fced29cb4f7f437d91dc159adec9c4e"
  },
  "language_info": {
   "codemirror_mode": {
    "name": "ipython",
    "version": 3
   },
   "file_extension": ".py",
   "mimetype": "text/x-python",
   "name": "python",
   "nbconvert_exporter": "python",
   "pygments_lexer": "ipython3",
   "version": "3.9.7"
  }
 },
 "nbformat": 4,
 "nbformat_minor": 5
}
