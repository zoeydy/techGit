{
 "cells": [
  {
   "cell_type": "code",
   "execution_count": 1,
   "id": "9af21ca3",
   "metadata": {},
   "outputs": [],
   "source": [
    "import numpy as np"
   ]
  },
  {
   "cell_type": "markdown",
   "id": "20708b5d",
   "metadata": {},
   "source": [
    "# 一维数组索引"
   ]
  },
  {
   "cell_type": "code",
   "execution_count": 6,
   "id": "24eab5c5",
   "metadata": {},
   "outputs": [
    {
     "name": "stdout",
     "output_type": "stream",
     "text": [
      "[0 1 2 3 4 5 6 7 8 9]\n",
      "[2 3 4 5]\n",
      "[0 1 2 3 4 5 6]\n",
      "[3 4 5 6 7 8 9]\n",
      "[0 1 2 3 4 5 6]\n",
      "[2 3 4 5 6]\n",
      "[9 8 7 6 5 4 3 2 1 0]\n",
      "[2 5 8]\n",
      "[9 7]\n",
      "[9 7 5]\n",
      "[9]\n"
     ]
    }
   ],
   "source": [
    "npary = np.arange(10)\n",
    "\n",
    "print(npary)\n",
    "print(npary[2:6])\n",
    "print(npary[:7])\n",
    "print(npary[3:])\n",
    "print(npary[:-3])\n",
    "print(npary[2:-3])\n",
    "print(npary[::-1])\n",
    "print(npary[2:9:3])\n",
    "print(npary[-1:5:-2])\n",
    "print(npary[-1:3:-2])\n",
    "print(npary[-1:7:-2])\n",
    "print(npary[-1:5:-2])"
   ]
  },
  {
   "cell_type": "code",
   "execution_count": null,
   "id": "b9dccf4d",
   "metadata": {},
   "outputs": [],
   "source": []
  }
 ],
 "metadata": {
  "kernelspec": {
   "display_name": "Python 3.9.7",
   "language": "python",
   "name": "python397jvsc74a57bd038cca0c38332a56087b24af0bc80247f4fced29cb4f7f437d91dc159adec9c4e"
  },
  "language_info": {
   "codemirror_mode": {
    "name": "ipython",
    "version": 3
   },
   "file_extension": ".py",
   "mimetype": "text/x-python",
   "name": "python",
   "nbconvert_exporter": "python",
   "pygments_lexer": "ipython3",
   "version": "3.9.7"
  }
 },
 "nbformat": 4,
 "nbformat_minor": 5
}
