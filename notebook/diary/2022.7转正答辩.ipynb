{
 "cells": [
  {
   "cell_type": "markdown",
   "id": "306347c8",
   "metadata": {},
   "source": [
    "# 基本信息\n",
    "胡宗翼 总行/信息技术部/批发应用研发中心/对公基础开发团队/对公基础管理设计室 负责科技运营方面的工作\n",
    "# 成果展示\n",
    "操作系统、网络知识\n",
    "\n",
    "企业网银（数字化）产品和系统的理解\n",
    "\n",
    "前端项目开发\n",
    "\n",
    "生产运维\n",
    "\n",
    "IT数据运营\n",
    "\n",
    "# 反思总结\n",
    "对业务，技术更深入的理解\n",
    "困难点，经验教训\n",
    "\n",
    "# 未来计划\n",
    "根据组织目标分解个人目标，两者间的匹配\\\n",
    "有一点量化\\\n",
    "计划分梯度（体现风险意识，相当于较简单的目标作为较难目标的应急预案）\\\n",
    "明确时间，可由时间轴体现"
   ]
  },
  {
   "cell_type": "markdown",
   "id": "e9b06f69",
   "metadata": {},
   "source": [
    "# 笔记\n",
    "* 关于产品：\\\n",
    "指标体系、指标分析、roadmap、重要模型（e.g.AARR模型、HEART模型 etc.）、用户产品数据的有机整合（用户的需求，用数据去发现，并提出进一步改进的建议）《人人都是产品经理》\n",
    "* 关于金融科技行业及银行在其中所面临的危险和机遇：\\\n",
    "银行也素来是一个市场准入门槛很高的垄断行业，但随着政策法规的宽松，为新型“银行”铺设了道路以实现创新，在降低成本的同时提供了用户更加友好的产品，以更低的费用以及更便捷的服务提升用户体验\n",
    "\n",
    "降低支付失败、使工人向价值链上游移动从而花时间解决更有价值的问题\n",
    "\n",
    "That’s why, according to Statista, the neobank sector was valued at \\\\$30+ billion in 2020 and is projected to grow at a Compound Annual Growth Rate of 47.7\\% over the next eight years. Neobanks are also attracting the unbanked customers with a combined purchasing power of $1.2 trillion. As more of the world’s population gets online, expect digital banking to move ahead of in-store services. <cite>[1](https://ibsintelligence.com/ibsi-news/5-key-fintech-trends-to-watch-in-2022/)<cite>\n",
    "\n",
    "As opposed to traditional banks who owned the entire value chain, BaaS players are largely focusing on only one to two stages of the value chain. <cite>[2](https://www2.deloitte.com/cn/en/pages/financial-services/articles/importance-of-banking-as-a-service.html)<cite>(有下载文档)\n",
    "    \n",
    "* 话术\n",
    "我通过学习了解/做了什么，有什么成果，为……节省了XXX多少，降本增效？%，"
   ]
  }
 ],
 "metadata": {
  "kernelspec": {
   "display_name": "Python 3.9.7",
   "language": "python",
   "name": "python397jvsc74a57bd038cca0c38332a56087b24af0bc80247f4fced29cb4f7f437d91dc159adec9c4e"
  },
  "language_info": {
   "codemirror_mode": {
    "name": "ipython",
    "version": 3
   },
   "file_extension": ".py",
   "mimetype": "text/x-python",
   "name": "python",
   "nbconvert_exporter": "python",
   "pygments_lexer": "ipython3",
   "version": "3.9.7"
  },
  "toc": {
   "base_numbering": 1,
   "nav_menu": {},
   "number_sections": true,
   "sideBar": true,
   "skip_h1_title": false,
   "title_cell": "Table of Contents",
   "title_sidebar": "Contents",
   "toc_cell": false,
   "toc_position": {},
   "toc_section_display": true,
   "toc_window_display": false
  }
 },
 "nbformat": 4,
 "nbformat_minor": 5
}
