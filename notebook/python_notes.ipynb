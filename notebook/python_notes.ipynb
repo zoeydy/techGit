{
 "cells": [
  {
   "cell_type": "markdown",
   "id": "274d177c",
   "metadata": {},
   "source": [
    "# Python related\n",
    "## PyCharm\n",
    "Before you run the code in the PyCharm IDE, make sure the edit `configuration` is set beforehand."
   ]
  },
  {
   "cell_type": "markdown",
   "id": "d93760aa",
   "metadata": {},
   "source": [
    "# Notice \n",
    "+ do not use the module names as the name of the files, like do not name numpy.py etc."
   ]
  }
 ],
 "metadata": {
  "kernelspec": {
   "display_name": "Python 3 (ipykernel)",
   "language": "python",
   "name": "python3"
  },
  "language_info": {
   "codemirror_mode": {
    "name": "ipython",
    "version": 3
   },
   "file_extension": ".py",
   "mimetype": "text/x-python",
   "name": "python",
   "nbconvert_exporter": "python",
   "pygments_lexer": "ipython3",
   "version": "3.9.7"
  }
 },
 "nbformat": 4,
 "nbformat_minor": 5
}
