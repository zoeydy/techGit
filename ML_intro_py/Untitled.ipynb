{
 "cells": [
  {
   "cell_type": "code",
   "execution_count": 6,
   "id": "fd681151",
   "metadata": {},
   "outputs": [
    {
     "name": "stdout",
     "output_type": "stream",
     "text": [
      ".. _iris_dataset:\n",
      "\n",
      "Iris plants dataset\n",
      "--------------------\n",
      "\n",
      "**Data Set Characteristics:**\n",
      "\n",
      "    :Num\n",
      "...\n",
      "X_train shape: (112, 4)\n",
      "y_train shape: (112,)\n",
      "X_test shape: (38, 4)\n",
      "y_test shape: (38,)\n"
     ]
    },
    {
     "ename": "NameError",
     "evalue": "name 'mglearn' is not defined",
     "output_type": "error",
     "traceback": [
      "\u001b[0;31m---------------------------------------------------------------------------\u001b[0m",
      "\u001b[0;31mNameError\u001b[0m                                 Traceback (most recent call last)",
      "\u001b[0;32m/var/folders/_d/ygp6b6291jq_99s9fqh98qv40000gn/T/ipykernel_23970/4149916375.py\u001b[0m in \u001b[0;36m<module>\u001b[0;34m\u001b[0m\n\u001b[1;32m     41\u001b[0m \u001b[0;31m# create a scatter matrix from the dataframe, color by y_train\u001b[0m\u001b[0;34m\u001b[0m\u001b[0;34m\u001b[0m\u001b[0m\n\u001b[1;32m     42\u001b[0m grr = pd.plotting.scatter_matrix(iris_dataframe, c=y_train, figsize=(15, 15), marker='o',\n\u001b[0;32m---> 43\u001b[0;31m                             hist_kwds={'bins': 20}, s=60, alpha=.8, cmap=mglearn.cm3)\n\u001b[0m\u001b[1;32m     44\u001b[0m \u001b[0;34m\u001b[0m\u001b[0m\n",
      "\u001b[0;31mNameError\u001b[0m: name 'mglearn' is not defined"
     ]
    }
   ],
   "source": [
    "\n",
    "# check the version\n",
    "import sys\n",
    "sys.version\n",
    "import pandas as pd\n",
    "pd.__version__\n",
    "import matplotlib as plt\n",
    "plt.__version__\n",
    "import numpy as np\n",
    "np.__version__\n",
    "import scipy as sp\n",
    "sp.__version__\n",
    "import IPython\n",
    "IPython.__version__\n",
    "import sklearn\n",
    "sklearn.__version__\n",
    "\n",
    "# 1. the Iris example\n",
    "from sklearn.datasets import load_iris\n",
    "iris_dataset = load_iris()\n",
    "iris_dataset.keys()\n",
    "print(iris_dataset['DESCR'][:100] + \"\\n...\")\n",
    "iris_dataset['target_names']\n",
    "iris_dataset['feature_names']\n",
    "iris_dataset['data']\n",
    "iris_dataset['target']\n",
    "\n",
    "from sklearn.model_selection import train_test_split\n",
    "X_train, X_test, y_train, y_test = train_test_split(\n",
    "    iris_dataset['data'], iris_dataset['target'], random_state=0\n",
    ")\n",
    "\n",
    "print(\"X_train shape: {}\".format(X_train.shape))\n",
    "print(\"y_train shape: {}\".format(y_train.shape))\n",
    "\n",
    "print(\"X_test shape: {}\".format(X_test.shape)) \n",
    "print(\"y_test shape: {}\".format(y_test.shape))\n",
    "\n",
    "# create dataframe from data in X_train\n",
    "# label the columns using the strings in iris_dataset.feature_names \n",
    "iris_dataframe = pd.DataFrame(X_train, columns=iris_dataset.feature_names)\n",
    "# create a scatter matrix from the dataframe, color by y_train\n",
    "grr = pd.plotting.scatter_matrix(iris_dataframe, c=y_train, figsize=(15, 15), marker='o',\n",
    "                            hist_kwds={'bins': 20}, s=60, alpha=.8, cmap=mglearn.cm3)\n",
    "                            "
   ]
  },
  {
   "cell_type": "code",
   "execution_count": null,
   "id": "63c247a0",
   "metadata": {},
   "outputs": [],
   "source": []
  }
 ],
 "metadata": {
  "kernelspec": {
   "display_name": "Python 3.9.7",
   "language": "python",
   "name": "python397jvsc74a57bd038cca0c38332a56087b24af0bc80247f4fced29cb4f7f437d91dc159adec9c4e"
  },
  "language_info": {
   "codemirror_mode": {
    "name": "ipython",
    "version": 3
   },
   "file_extension": ".py",
   "mimetype": "text/x-python",
   "name": "python",
   "nbconvert_exporter": "python",
   "pygments_lexer": "ipython3",
   "version": "3.9.7"
  }
 },
 "nbformat": 4,
 "nbformat_minor": 5
}
