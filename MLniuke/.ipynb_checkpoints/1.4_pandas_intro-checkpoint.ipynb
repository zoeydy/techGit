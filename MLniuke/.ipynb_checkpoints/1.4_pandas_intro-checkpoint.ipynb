{
 "cells": [
  {
   "cell_type": "markdown",
   "id": "3a920f7b",
   "metadata": {},
   "source": [
    "## 数据结构\n",
    "\n",
    "### series\n",
    "### DataFrame\n",
    "**常用语句**\n",
    "* discribe\n",
    "* unique\n",
    "* value_count\n",
    "* hist\n",
    "* plot\n",
    "\n",
    "**小工具**\n",
    "* 便捷的I/O\n",
    "* groupby, join\n",
    "* pivot table\n"
   ]
  },
  {
   "cell_type": "code",
   "execution_count": null,
   "id": "3663e6d2",
   "metadata": {},
   "outputs": [],
   "source": [
    "import pandas as pd\n",
    "import numpy as np\n",
    "import "
   ]
  }
 ],
 "metadata": {
  "kernelspec": {
   "display_name": "Python 3.9.7",
   "language": "python",
   "name": "python397jvsc74a57bd038cca0c38332a56087b24af0bc80247f4fced29cb4f7f437d91dc159adec9c4e"
  },
  "language_info": {
   "codemirror_mode": {
    "name": "ipython",
    "version": 3
   },
   "file_extension": ".py",
   "mimetype": "text/x-python",
   "name": "python",
   "nbconvert_exporter": "python",
   "pygments_lexer": "ipython3",
   "version": "3.9.7"
  }
 },
 "nbformat": 4,
 "nbformat_minor": 5
}
