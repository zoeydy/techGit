{
 "cells": [
  {
   "cell_type": "code",
   "execution_count": 53,
   "id": "a758282d",
   "metadata": {},
   "outputs": [],
   "source": [
    "import pandas as pd\n",
    "import numpy as np\n",
    "import random as rd\n",
    "from sklearn.decomposition import PCA\n",
    "from sklearn import preprocessing\n",
    "import matplotlib.pyplot as plt\n",
    "%matplotlib inline"
   ]
  },
  {
   "cell_type": "code",
   "execution_count": 54,
   "id": "45486bdd",
   "metadata": {},
   "outputs": [],
   "source": [
    "genes = ['gene' + str(i) for i in range(1,101)]\n",
    "wt = ['wt' + str(i) for i in range(1,6)]\n",
    "ko = ['ko' + str(i) for i in range(1,6)]\n",
    "\n",
    "data = pd.DataFrame(columns=[*wt,*ko], index=genes)"
   ]
  },
  {
   "cell_type": "code",
   "execution_count": 60,
   "id": "a6a8dff3",
   "metadata": {},
   "outputs": [],
   "source": [
    "for gene in data.index:\n",
    "    data.loc[gene, 'wt1':'wt5'] = np.random.poisson(lam=rd.randrange(10,1000), size=5)\n",
    "    data.loc[gene, 'ko1':'ko5'] = np.random.poisson(lam=rd.randrange(10,1000), size=5)"
   ]
  },
  {
   "cell_type": "code",
   "execution_count": 61,
   "id": "67b2daf8",
   "metadata": {},
   "outputs": [
    {
     "name": "stdout",
     "output_type": "stream",
     "text": [
      "       wt1  wt2  wt3  wt4  wt5  ko1  ko2  ko3  ko4  ko5\n",
      "gene1  690  714  726  741  718  384  365  395  402  348\n",
      "gene2  430  384  447  429  446  647  676  683  653  633\n",
      "gene3  559  542  543  569  546  285  311  290  298  273\n",
      "gene4  115   93  110  130  115  356  365  383  367  382\n",
      "gene5  192  218  219  234  223  446  450  444  446  418\n"
     ]
    }
   ],
   "source": [
    "print(data.head())"
   ]
  },
  {
   "cell_type": "code",
   "execution_count": 62,
   "id": "5c68d15d",
   "metadata": {},
   "outputs": [
    {
     "name": "stdout",
     "output_type": "stream",
     "text": [
      "(100, 10)\n"
     ]
    }
   ],
   "source": [
    "print(data.shape)"
   ]
  },
  {
   "cell_type": "markdown",
   "id": "227e59cb",
   "metadata": {},
   "source": [
    "centering: the average value for each gene will be 0\n",
    "\n",
    "scaling: the SD(standard deviation) for the values for each gene will be 1"
   ]
  },
  {
   "cell_type": "code",
   "execution_count": 63,
   "id": "112d1142",
   "metadata": {},
   "outputs": [],
   "source": [
    "scaled_data = preprocessing.scale(data.T)\n",
    "# you could also use: \n",
    "# StandardScaler().fit_transform(data.T)"
   ]
  },
  {
   "cell_type": "code",
   "execution_count": 64,
   "id": "c0d823f6",
   "metadata": {},
   "outputs": [],
   "source": [
    "pca = PCA()\n",
    "pca.fit(scaled_data)\n",
    "pca_data = pca.transform(scaled_data)"
   ]
  },
  {
   "cell_type": "code",
   "execution_count": 65,
   "id": "9cb0b823",
   "metadata": {},
   "outputs": [
    {
     "data": {
      "image/png": "[encoded data removed]",
      "text/plain": [
       "<Figure size 432x288 with 1 Axes>"
      ]
     },
     "metadata": {
      "needs_background": "light"
     },
     "output_type": "display_data"
    }
   ],
   "source": [
    "# scree plot\n",
    "per_var = np.round(pca.explained_variance_ratio_*100, decimals=1)\n",
    "labels = ['PC' + str(x) for x in range(1,len(per_var)+1)]\n",
    "\n",
    "plt.bar(x=range(1,len(per_var)+1), height=per_var, tick_label=labels)\n",
    "plt.xlabel(\"Percentage of Explained Variance\")\n",
    "plt.ylabel(\"Principal Component\")\n",
    "plt.title(\"Scree Plot\")\n",
    "plt.show()"
   ]
  },
  {
   "cell_type": "code",
   "execution_count": 66,
   "id": "3589f011",
   "metadata": {},
   "outputs": [
    {
     "data": {
      "image/png": "[encoded data removed]",
      "text/plain": [
       "<Figure size 432x288 with 1 Axes>"
      ]
     },
     "metadata": {
      "needs_background": "light"
     },
     "output_type": "display_data"
    }
   ],
   "source": [
    "# pca plot\n",
    "pca_df = pd.DataFrame(pca_data, index=[*wt,*ko], columns=labels)\n",
    "\n",
    "plt.scatter(pca_df.PC1, pca_df.PC2)\n",
    "plt.title('My PCA Graph')\n",
    "plt.xlabel(\"PC1 - {0}%\".format(per_var[0]))\n",
    "plt.ylabel(\"PC2 - {0}%\".format(per_var[1]))\n",
    "\n",
    "for sample in pca_df.index:\n",
    "    plt.annotate(sample, (pca_df.PC1.loc[sample], pca_df.PC2.loc[sample]))\n",
    "    \n",
    "plt.show()"
   ]
  },
  {
   "cell_type": "markdown",
   "id": "7a96dc69",
   "metadata": {},
   "source": [
    "look at the loading scores for PC1 to determine which genes had the largest influence on separating the two clusters along the x-axis"
   ]
  },
  {
   "cell_type": "code",
   "execution_count": 67,
   "id": "55e009a9",
   "metadata": {},
   "outputs": [
    {
     "name": "stdout",
     "output_type": "stream",
     "text": [
      "gene27   -0.106639\n",
      "gene59   -0.106619\n",
      "gene64   -0.106608\n",
      "gene79    0.106598\n",
      "gene16   -0.106595\n",
      "gene74   -0.106593\n",
      "gene55   -0.106581\n",
      "gene41   -0.106563\n",
      "gene24    0.106543\n",
      "gene11   -0.106533\n",
      "dtype: float64\n"
     ]
    }
   ],
   "source": [
    "loading_scores = pd.Series(pca.components_[0], index=genes)\n",
    "sorted_loading_scores = loading_scores.abs().sort_values(ascending=False)\n",
    "\n",
    "top_10_gene = sorted_loading_scores[0:10].index.values\n",
    "\n",
    "print(loading_scores[top_10_gene])\n",
    "\n",
    "# these values are super similar, so a lot of genes played a role in seperating the samples, rather than just one or two"
   ]
  },
  {
   "cell_type": "code",
   "execution_count": null,
   "id": "c8ad70f2",
   "metadata": {},
   "outputs": [],
   "source": []
  },
  {
   "cell_type": "code",
   "execution_count": null,
   "id": "a26f17ee",
   "metadata": {},
   "outputs": [],
   "source": []
  }
 ],
 "metadata": {
  "kernelspec": {
   "display_name": "Python 3.9.7",
   "language": "python",
   "name": "python397jvsc74a57bd038cca0c38332a56087b24af0bc80247f4fced29cb4f7f437d91dc159adec9c4e"
  },
  "language_info": {
   "codemirror_mode": {
    "name": "ipython",
    "version": 3
   },
   "file_extension": ".py",
   "mimetype": "text/x-python",
   "name": "python",
   "nbconvert_exporter": "python",
   "pygments_lexer": "ipython3",
   "version": "3.9.7"
  }
 },
 "nbformat": 4,
 "nbformat_minor": 5
}
