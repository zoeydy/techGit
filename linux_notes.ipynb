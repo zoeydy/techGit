{
 "cells": [
  {
   "cell_type": "markdown",
   "id": "64d0489b",
   "metadata": {},
   "source": [
    "# 文本权限，通配符和环境变量\n",
    "## 文本权限\n",
    "`ls -l`: 第1个字母表示directory/文件，第2-10个数字三个为一组分别表示user，group和others的权限（w:write, r:read, x:executable）\\\n",
    "`chmod u+/-w`: change mode, user +/- write"
   ]
  }
 ],
 "metadata": {
  "kernelspec": {
   "display_name": "Python 3.9.7",
   "language": "python",
   "name": "python397jvsc74a57bd038cca0c38332a56087b24af0bc80247f4fced29cb4f7f437d91dc159adec9c4e"
  },
  "language_info": {
   "codemirror_mode": {
    "name": "ipython",
    "version": 3
   },
   "file_extension": ".py",
   "mimetype": "text/x-python",
   "name": "python",
   "nbconvert_exporter": "python",
   "pygments_lexer": "ipython3",
   "version": "3.9.7"
  }
 },
 "nbformat": 4,
 "nbformat_minor": 5
}
