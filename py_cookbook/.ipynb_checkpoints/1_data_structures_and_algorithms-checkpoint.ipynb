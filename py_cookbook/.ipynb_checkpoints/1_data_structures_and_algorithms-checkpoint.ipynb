{
 "cells": [
  {
   "cell_type": "markdown",
   "id": "f28c8a63",
   "metadata": {},
   "source": [
    "**Data structures:** \\\n",
    "list: []  \\\n",
    "dictionary: {} \\\n",
    "tuple: () \\\n",
    "set: () \n",
    "\n",
    "\n",
    "**Questions concerning(algorithm):**\\\n",
    "searching, sorting, ordering, and filtering "
   ]
  },
  {
   "cell_type": "markdown",
   "id": "ebbd3e55",
   "metadata": {},
   "source": [
    "# Unpacking a sequence into separate variables"
   ]
  },
  {
   "cell_type": "code",
   "execution_count": 15,
   "id": "2e47ccf8",
   "metadata": {},
   "outputs": [],
   "source": [
    "data = [ 'ACME', 50, 91.1, (2012, 12, 21) ]"
   ]
  },
  {
   "cell_type": "code",
   "execution_count": 14,
   "id": "92fd8f75",
   "metadata": {},
   "outputs": [
    {
     "name": "stdout",
     "output_type": "stream",
     "text": [
      "ACME\n",
      "2012\n"
     ]
    }
   ],
   "source": [
    "name, shares, price, (year, mon, day) = data\n",
    "print(name)\n",
    "print(year)"
   ]
  },
  {
   "cell_type": "markdown",
   "id": "cf2fe3cc",
   "metadata": {},
   "source": [
    "## iterable is sufficient "
   ]
  },
  {
   "cell_type": "code",
   "execution_count": 8,
   "id": "9c855315",
   "metadata": {},
   "outputs": [
    {
     "name": "stdout",
     "output_type": "stream",
     "text": [
      "z o e y\n"
     ]
    }
   ],
   "source": [
    "s = 'zoey'\n",
    "a,b,c,d = s\n",
    "print(a,b,c,d)"
   ]
  },
  {
   "cell_type": "markdown",
   "id": "cfcbb19c",
   "metadata": {},
   "source": [
    "## Discard"
   ]
  },
  {
   "cell_type": "code",
   "execution_count": 19,
   "id": "ae4de128",
   "metadata": {},
   "outputs": [
    {
     "data": {
      "text/plain": [
       "50"
      ]
     },
     "execution_count": 19,
     "metadata": {},
     "output_type": "execute_result"
    }
   ],
   "source": [
    "_, shares, price, _ = data\n",
    "shares"
   ]
  },
  {
   "cell_type": "markdown",
   "id": "4da53e33",
   "metadata": {},
   "source": [
    "# Star expresion: Unpacking elements from iterables of arbitrary length "
   ]
  },
  {
   "cell_type": "markdown",
   "id": "ef69938d",
   "metadata": {},
   "source": [
    "## e.g."
   ]
  },
  {
   "cell_type": "code",
   "execution_count": 33,
   "id": "ba716840",
   "metadata": {},
   "outputs": [
    {
     "data": {
      "text/plain": [
       "96.5"
      ]
     },
     "execution_count": 33,
     "metadata": {},
     "output_type": "execute_result"
    }
   ],
   "source": [
    "def drop_first_last(grades):\n",
    "    first, *middle, last = grades\n",
    "    return sum(middle)/len(middle)\n",
    "\n",
    "final_grades = [90,90,99,100,97,93]\n",
    "drop_first_last(final_grades)"
   ]
  },
  {
   "cell_type": "code",
   "execution_count": 13,
   "id": "dbac3484",
   "metadata": {},
   "outputs": [
    {
     "data": {
      "text/plain": [
       "[50, 91.1]"
      ]
     },
     "execution_count": 13,
     "metadata": {},
     "output_type": "execute_result"
    }
   ],
   "source": [
    "name, *nums, date = data\n",
    "nums"
   ]
  },
  {
   "cell_type": "code",
   "execution_count": 25,
   "id": "14a7566a",
   "metadata": {},
   "outputs": [
    {
     "name": "stdout",
     "output_type": "stream",
     "text": [
      "foo 1 2\n",
      "bar hello\n",
      "foo 3 4\n",
      "foo 1 2\n",
      "bar hello\n",
      "foo 3 4\n"
     ]
    }
   ],
   "source": [
    "records = [\n",
    "         ('foo', 1, 2),\n",
    "         ('bar', 'hello'),\n",
    "         ('foo', 3, 4),]\n",
    "\n",
    "def do_foo(x,y):\n",
    "    print('foo', x, y)\n",
    "    \n",
    "def do_bar(s):\n",
    "    print('bar', s)\n",
    "    \n",
    "for tag,*args in records:\n",
    "    if tag == 'foo':\n",
    "        do_foo(*args)\n",
    "    if tag == 'bar':\n",
    "        do_bar(*args)\n",
    "    \n",
    "for tag,*args in records:\n",
    "    print(tag,*args)"
   ]
  },
  {
   "cell_type": "markdown",
   "id": "22004680",
   "metadata": {},
   "source": [
    "## data.split()"
   ]
  },
  {
   "cell_type": "code",
   "execution_count": 32,
   "id": "6e9e5056",
   "metadata": {},
   "outputs": [
    {
     "name": "stdout",
     "output_type": "stream",
     "text": [
      "['nobody', '*', '-2', '-2', 'Unprivileged User', '/var/empty', '/usr/bin/false']\n",
      "['*', '-2', '-2', 'Unprivileged User']\n"
     ]
    }
   ],
   "source": [
    "line = 'nobody:*:-2:-2:Unprivileged User:/var/empty:/usr/bin/false'\n",
    "print(line.split(':'))\n",
    "uname, *fields, homedir, sh = line.split(':')\n",
    "print(fields)"
   ]
  },
  {
   "cell_type": "markdown",
   "id": "678928c5",
   "metadata": {},
   "source": [
    "## unpack and throw away"
   ]
  },
  {
   "cell_type": "code",
   "execution_count": 34,
   "id": "54a490cf",
   "metadata": {},
   "outputs": [
    {
     "name": "stdout",
     "output_type": "stream",
     "text": [
      "2012\n"
     ]
    }
   ],
   "source": [
    "record = ('ACME', 50, 123.45, (12, 18, 2012))\n",
    "name, *_, (*_, year) = record\n",
    "print(year)"
   ]
  },
  {
   "cell_type": "markdown",
   "id": "6c72b614",
   "metadata": {},
   "source": [
    "# Keeping the last N items: `deque()` \n",
    "limit the size/history of the data"
   ]
  },
  {
   "cell_type": "markdown",
   "id": "16fc65d8",
   "metadata": {},
   "source": [
    "## e.g."
   ]
  },
  {
   "cell_type": "code",
   "execution_count": 8,
   "id": "3941aba9",
   "metadata": {},
   "outputs": [
    {
     "name": "stdout",
     "output_type": "stream",
     "text": [
      "deque([1, 2, 3], maxlen=3) \n",
      "----------------\n",
      "deque([2, 3, 4], maxlen=3) \n",
      "----------------\n",
      "deque([-1, 2, 3], maxlen=3)\n",
      "3\n",
      "-1\n",
      "deque([2], maxlen=3)\n"
     ]
    }
   ],
   "source": [
    "from collections import deque\n",
    "\n",
    "q = deque(maxlen=3)\n",
    "q.append(1)\n",
    "q.append(2)\n",
    "q.append(3)\n",
    "print(q, '\\n----------------')\n",
    "\n",
    "q.append(4)\n",
    "print(q, '\\n----------------')\n",
    "\n",
    "q.appendleft(-1)\n",
    "print(q)\n",
    "print(q.pop())\n",
    "print(q.popleft())\n",
    "print(q)"
   ]
  },
  {
   "cell_type": "markdown",
   "id": "f9923e69",
   "metadata": {},
   "source": [
    "# Finding the largest or smallest N items: `heapq`, `nlargest()` and `nsmallest()`"
   ]
  },
  {
   "cell_type": "code",
   "execution_count": null,
   "id": "8808b626",
   "metadata": {},
   "outputs": [],
   "source": []
  }
 ],
 "metadata": {
  "kernelspec": {
   "display_name": "Python 3 (ipykernel)",
   "language": "python",
   "name": "python3"
  },
  "language_info": {
   "codemirror_mode": {
    "name": "ipython",
    "version": 3
   },
   "file_extension": ".py",
   "mimetype": "text/x-python",
   "name": "python",
   "nbconvert_exporter": "python",
   "pygments_lexer": "ipython3",
   "version": "3.9.11"
  },
  "toc": {
   "base_numbering": 1,
   "nav_menu": {},
   "number_sections": true,
   "sideBar": true,
   "skip_h1_title": false,
   "title_cell": "Table of Contents",
   "title_sidebar": "Contents",
   "toc_cell": false,
   "toc_position": {
    "height": "calc(100% - 180px)",
    "left": "10px",
    "top": "150px",
    "width": "165px"
   },
   "toc_section_display": true,
   "toc_window_display": true
  }
 },
 "nbformat": 4,
 "nbformat_minor": 5
}
